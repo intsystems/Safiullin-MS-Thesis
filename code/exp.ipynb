{
 "cells": [
  {
   "cell_type": "code",
   "execution_count": 238,
   "id": "09fbb2ef",
   "metadata": {},
   "outputs": [],
   "source": [
    "import itertools\n",
    "import os\n",
    "import random as rd\n",
    "import warnings\n",
    "from sklearn.model_selection import KFold\n",
    "from sklearn.cross_decomposition import PLSRegression\n",
    "import matplotlib.pyplot as plt\n",
    "import numpy as np\n",
    "import pandas as pd\n",
    "import plotly.express as px \n",
    "import plotly.graph_objects as go\n",
    "import scipy\n",
    "import torch\n",
    "import torch.nn as nn\n",
    "import torch.optim as optim\n",
    "from pyriemann.estimation import Covariances\n",
    "from pyriemann.utils import mean as riemann_mean\n",
    "from pyriemann.utils import tangentspace\n",
    "from sklearn.preprocessing import MinMaxScaler, StandardScaler\n",
    "from torch.autograd import Variable\n",
    "from torch.utils.data import DataLoader, TensorDataset\n",
    "from tqdm import tqdm\n",
    "from pyriemann.estimation import Covariances\n",
    "from pyriemann.utils.mean import mean_riemann\n",
    "from pyriemann.utils.tangentspace import tangent_space, untangent_space\n",
    "from data import *\n",
    "from model import *\n",
    "\n",
    "import random\n",
    "\n",
    "\n",
    "class TimeseriesDataset(torch.utils.data.Dataset):   \n",
    "    def __init__(self, X, y):\n",
    "        self.X = X\n",
    "        self.y = y\n",
    "#         self.seq_len = seq_len\n",
    "\n",
    "    def __len__(self):\n",
    "        return self.X.__len__() \n",
    "\n",
    "    def __getitem__(self, index):\n",
    "        return ((self.X[index,:]), (self.y[index]))\n",
    "    \n",
    "\n",
    "\n",
    "\n",
    "    \n",
    "    \n",
    "class Autoencoder_Linear_watch(nn.Module):\n",
    "    def __init__(self):\n",
    "        super().__init__()        \n",
    "        self.encoder = nn.Sequential(\n",
    "            nn.Linear(200, 64), # (N, 784) -> (N, 128)\n",
    "            nn.ReLU(),\n",
    "            nn.Linear(64, 64),\n",
    "            nn.ReLU(),\n",
    "#             nn.Linear(32, 32),\n",
    "#             nn.ReLU(),\n",
    "            nn.Linear(64, 16) # -> N, 3\n",
    "        )\n",
    "        \n",
    "        self.decoder = nn.Sequential(\n",
    "            nn.Linear(16, 64),\n",
    "            nn.ReLU(),\n",
    "            nn.Linear(64, 64),\n",
    "            nn.ReLU(),\n",
    "#             nn.Linear(64, 64),\n",
    "#             nn.ReLU(),\n",
    "            nn.Linear(64, 200)\n",
    "        )\n",
    "\n",
    "    def forward(self, x):\n",
    "        encoded = self.encoder(x)\n",
    "        decoded = self.decoder(encoded)\n",
    "        return decoded\n",
    "def train_autoencoder(model, data_loader, num_epochs=100):\n",
    "    criterion = nn.MSELoss()\n",
    "    optimizer = torch.optim.Adam(model.parameters(), lr=7e-4)\n",
    "    for epoch in range(num_epochs):\n",
    "        for (img, _) in data_loader:\n",
    "            img = img.cuda()\n",
    "            recon = model(img)\n",
    "            loss = criterion(recon, img)\n",
    "            optimizer.zero_grad()\n",
    "            loss.backward()\n",
    "            optimizer.step()\n",
    "    return model\n",
    "\n",
    "def encode_data(model, data_loader):\n",
    "    encoded_data = []\n",
    "    for (img, _) in data_loader:\n",
    "        batch_encoded = model.encoder(img.cuda()).cpu().detach().numpy()\n",
    "        encoded_data.extend(batch_encoded)\n",
    "    return np.array(encoded_data).reshape(-1, 16)\n",
    "\n",
    "def train_regression(X_train, y_train, num_components=20):\n",
    "    return PLSRegression(n_components=num_components).fit(X_train, y_train)\n",
    "\n",
    "def train_multi_net(net, X_train, y_train, num_epochs=1000):\n",
    "    criterion = nn.MSELoss()\n",
    "    optimizer = torch.optim.Adam(net.parameters(), lr=5e-4)\n",
    "    inputs = Variable(torch.Tensor(X_train)).cuda()\n",
    "    outputs = Variable(torch.Tensor(y_train)).cuda()\n",
    "    for _ in range(num_epochs):\n",
    "        prediction = net(inputs)\n",
    "        loss = criterion(prediction, outputs) \n",
    "        optimizer.zero_grad()\n",
    "        loss.backward()        \n",
    "        optimizer.step()\n",
    "    return net\n",
    "\n",
    "\n",
    "class model_multi(nn.Module):\n",
    "    def __init__(self):\n",
    "        super(model_multi, self).__init__()\n",
    "        self.linear_relu_stack = nn.Sequential(\n",
    "            nn.Linear(16, 64),\n",
    "            nn.ReLU(),\n",
    "            nn.Linear(64, 64),\n",
    "            nn.ReLU(),\n",
    "#             nn.Linear(64, 32),\n",
    "#             nn.ReLU(),\n",
    "            nn.Linear(64, 16),\n",
    "        )\n",
    "\n",
    "    def forward(self, x):\n",
    "        logits = self.linear_relu_stack(x)\n",
    "        return logits\n",
    "    \n",
    "    \n",
    "\n",
    "class Autoencoder_Linear(nn.Module):\n",
    "    def __init__(self, n_feat):\n",
    "        super().__init__()        \n",
    "        self.n_feat = n_feat\n",
    "\n",
    "        self.encoder = nn.Sequential(\n",
    "            nn.Linear(self.n_feat, 32), # (N, 784) -> (N, 128)\n",
    "            nn.ReLU(),\n",
    "#             nn.Linear(32, 32),\n",
    "#             nn.ReLU(),\n",
    "#             nn.Linear(32, 32),\n",
    "#             nn.ReLU(),\n",
    "            nn.Linear(32, 16) # -> N, 3\n",
    "        )\n",
    "        \n",
    "        self.decoder = nn.Sequential(\n",
    "            nn.Linear(16, 32),\n",
    "            nn.ReLU(),\n",
    "#             nn.Linear(32, 32),\n",
    "#             nn.ReLU(),\n",
    "#             nn.Linear(32, 32),\n",
    "#             nn.ReLU(),\n",
    "            nn.Linear(32, self.n_feat)\n",
    "        )\n",
    "    def forward(self, x):\n",
    "        encoded = self.encoder(x)\n",
    "        decoded = self.decoder(encoded)\n",
    "        return decoded\n",
    "        \n",
    "def process_tensors(X_tensor, X_tensor_old, qpfs_feat, qpfs_feat_num, train_index, last_index):\n",
    "    if qpfs_feat_num != 0:\n",
    "        for i in range(3):\n",
    "            X_tensor[:, i, :qpfs_feat_num][::2] = X_tensor_old[:, i, qpfs_feat[i][:qpfs_feat_num]][::2]\n",
    "    else:\n",
    "        qpfs_feat_num = 200\n",
    "        X_tensor = X_tensor_old\n",
    "\n",
    "    tangent_space_data_phone_train, riemann_mean_phone_train = to_riemann_space(X_tensor[:train_index,:,:qpfs_feat_num][::2])\n",
    "    tangent_space_data_watch_train, riemann_mean_watch_train = to_riemann_space(X_tensor_old[:train_index,:,:][1::2])\n",
    "    cov_matrices_phone = Covariances().fit_transform(X_tensor[train_index:last_index,:,:qpfs_feat_num][::2])\n",
    "    tangent_space_data_phone_test = tangent_space(cov_matrices_phone, riemann_mean_phone_train)\n",
    "\n",
    "    cov_matrices_watch = Covariances().fit_transform(X_tensor_old[train_index:last_index,:,:][1::2])\n",
    "    tangent_space_data_watch_test = tangent_space(cov_matrices_watch, riemann_mean_watch_train)\n",
    "    \n",
    "    \n",
    "    reconstructed_data_train = untangent_space(tangent_space_data_watch_train, riemann_mean_watch_train)\n",
    "\n",
    "    reconstructed_data_test = untangent_space(tangent_space_data_watch_test, riemann_mean_watch_train)\n",
    "\n",
    "    return tangent_space_data_phone_train, riemann_mean_phone_train, tangent_space_data_watch_train, riemann_mean_watch_train, tangent_space_data_phone_test, tangent_space_data_watch_test, reconstructed_data_train, reconstructed_data_test\n",
    "\n",
    "\n",
    "\n",
    "def main():\n",
    "    iter_results = []\n",
    "    for qpfs_feat_num in tqdm([10, 20, 30, 40, 50, 60, 70, 80, 90, 100, 120, 150, 0]):\n",
    "        correlations = []\n",
    "        mses = []\n",
    "        for cv_ind_ in range(5):\n",
    "            \n",
    "\n",
    "            tangent_space_data_phone_train,\\\n",
    "                riemann_mean_phone_train,\\\n",
    "                tangent_space_data_watch_train,\\\n",
    "                riemann_mean_watch_train,\\\n",
    "                tangent_space_data_phone_test,\\\n",
    "                tangent_space_data_watch_test, \\\n",
    "                reconstructed_data_train, \\\n",
    "                reconstructed_data_test = process_tensors(X_tensor[cv_ind[cv_ind_], :, :],\n",
    "                                                                X_tensor_old[cv_ind[cv_ind_], :, :],\n",
    "                                                                qpfs_feat,\n",
    "                                                                qpfs_feat_num,\n",
    "                                                                train_index,\n",
    "                                                                last_index-2)\n",
    "\n",
    "            BATCH_SIZE = 256\n",
    "            N_EPOCHS = 20\n",
    "            HIDDEN_SIZES =  [16, 32, 64]\n",
    "            DROPOUT = 0.4\n",
    "            LEARNING_RATE = 0.01\n",
    "\n",
    "            data_loader_riemann = prepare_dataset(tangent_space_data_phone_train, tangent_space_data_watch_train, BATCH_SIZE)\n",
    "            rieman_model = RiemannFullyConnected(n_features=6, hidden_sizes=HIDDEN_SIZES, dropout=DROPOUT).double().to(DEVICE)\n",
    "            criterion = nn.MSELoss()\n",
    "            optimizer = optim.Adam(rieman_model.parameters(), lr=LEARNING_RATE)\n",
    "            rieman_model = train_model(rieman_model, data_loader_riemann, N_EPOCHS, criterion, optimizer, DEVICE)\n",
    "            output_data = eval_model(rieman_model, Variable(torch.tensor(tangent_space_data_phone_test)), DEVICE)\n",
    "\n",
    "\n",
    "            N_EPOCHS = 20\n",
    "            BATCH_SIZE = 256\n",
    "            HIDDEN_SIZES = [512, 256, 512, 1024, 2048, 1024]\n",
    "\n",
    "            DROPOUT = 0.5\n",
    "            LEARNING_RATE = 1e-3\n",
    "            train_loader = prepare_dataset(reconstructed_data_train, X_tensor_old[cv_ind[cv_ind_]][:train_index,:,:][1::2], BATCH_SIZE)\n",
    "            model = CustomFullyConnected(n_ch=N_CH, n_features=N_FEATURES, hidden_sizes=HIDDEN_SIZES, dropout=DROPOUT).double().to(DEVICE)\n",
    "            optimizer = optim.Adam(model.parameters(), lr=LEARNING_RATE)\n",
    "            model = train_model(model, train_loader, N_EPOCHS, criterion, optimizer, DEVICE)\n",
    "            output_data_series = eval_model(model, torch.tensor(untangent_space(output_data.cpu(), riemann_mean_watch_train)), DEVICE)\n",
    "\n",
    "            average_correlation, average_mse = get_correlation_and_mse(X_tensor_old[cv_ind[cv_ind_]], output_data_series, train_index, last_index-2)\n",
    "            print(qpfs_feat_num, average_correlation, average_mse)\n",
    "\n",
    "            correlations.append(average_correlation)\n",
    "            mses.append(average_mse)\n",
    "        iter_results.append([qpfs_feat_num,correlations,mses])\n",
    "        \n",
    "    return iter_results\n",
    "def cv_2d():\n",
    "\n",
    "    iter_results = []\n",
    "    for qpfs_feat_num in tqdm([10, 20, 30, 40, 50, 60, 70, 80, 90, 100, 120, 150, 0]):\n",
    "        correlations = []\n",
    "        mses = []\n",
    "        \n",
    "        \n",
    "            \n",
    "        \n",
    "\n",
    "        # Prepare data\n",
    "        X_phone = torch.from_numpy(np.array(X_arr[smart_indexes[:-1]], dtype = np.float32))\n",
    "        X_watch = torch.from_numpy(np.array(X_arr[watch_indexes[:-1]], dtype = np.float32))\n",
    "        \n",
    "        if qpfs_feat_num != 0:\n",
    "                X_phone = X_phone[:,qpfs_2d_feat[:qpfs_feat_num]]\n",
    "        else:\n",
    "            qpfs_feat_num = 200\n",
    "            \n",
    "        model_phone = Autoencoder_Linear(n_feat=qpfs_feat_num).cuda()\n",
    "        model_watch = Autoencoder_Linear_watch().cuda()\n",
    "        net = model_multi().cuda()\n",
    "\n",
    "        # Set up K-Fold cross validation\n",
    "        kf = KFold(n_splits=5, shuffle=True, random_state=42)\n",
    "        \n",
    "        correlations_cv = []\n",
    "        mses_cv = []\n",
    "        # Iterate over each fold\n",
    "        for train_index, test_index in kf.split(X_phone):\n",
    "            # Split data into training and test sets\n",
    "            X_phone_train, X_phone_test = X_phone[train_index], X_phone[test_index]\n",
    "            X_watch_train, X_watch_test = X_watch[train_index], X_watch[test_index]\n",
    "            print(X_phone_train.shape)\n",
    "            # Prepare data loaders\n",
    "            data_loader_phone_train = DataLoader(TimeseriesDataset(X_phone_train, np.arange((len(X_phone_train)))), batch_size=256, shuffle=True)\n",
    "            data_loader_phone_test = DataLoader(TimeseriesDataset(X_phone_test, np.arange((len(X_phone_test)))), batch_size=256, shuffle=True)\n",
    "            data_loader_watch_train = DataLoader(TimeseriesDataset(X_watch_train, np.arange((len(X_phone_train)))), batch_size=256, shuffle=True)\n",
    "            data_loader_watch_test = DataLoader(TimeseriesDataset(X_watch_test, np.arange((len(X_phone_test)))), batch_size=256, shuffle=True)\n",
    "\n",
    "\n",
    "\n",
    "            # Train Autoencoders\n",
    "            model_phone = train_autoencoder(model_phone, data_loader_phone_train)\n",
    "            model_watch = train_autoencoder(model_watch, data_loader_watch_train)\n",
    "\n",
    "            # Encode data using trained Autoencoders\n",
    "            encoded_from_phone_train = encode_data(model_phone, data_loader_phone_train)\n",
    "            encoded_from_watch_train = encode_data(model_watch, data_loader_watch_train)\n",
    "\n",
    "            # Train regression\n",
    "            pls = train_regression(encoded_from_phone_train, encoded_from_watch_train)\n",
    "\n",
    "            # Encode test data using trained Autoencoders\n",
    "            encoded_from_phone_test = encode_data(model_phone, data_loader_phone_test)\n",
    "\n",
    "            # Predict with regression\n",
    "            y_pred = pls.predict(encoded_from_phone_test)\n",
    "\n",
    "            # Train multi_net\n",
    "            net = train_multi_net(net, encoded_from_phone_train, encoded_from_watch_train)\n",
    "            net.eval()\n",
    "            \n",
    "#             output_data_series_net = eval_model(net, torch.tensor(encoded_from_phone_test), DEVICE)\n",
    "            with torch.no_grad():\n",
    "                output_data_series_net = net(Variable(torch.tensor(encoded_from_phone_test)).float().to(DEVICE))\n",
    "            \n",
    "            \n",
    "            \n",
    "     \n",
    "            y_pred_orig_dim_pls = model_watch.decoder(torch.tensor(y_pred).float().cuda()).cpu().detach().numpy()\n",
    "\n",
    "\n",
    "            # Convert y_pred back to original dimension\n",
    "            y_pred_orig_dim = model_watch.decoder(output_data_series_net.cuda()).cpu().detach().numpy()\n",
    "            \n",
    "            correlations = []\n",
    "            mses = []\n",
    "            for target, prediction in zip(X_watch_test, y_pred_orig_dim):\n",
    "                \n",
    "#                 plt.plot(target)\n",
    "#                 plt.plot(prediction)\n",
    "                plt.show()\n",
    "                correlation = np.corrcoef((target), (prediction))[0, 1]\n",
    "                correlations.append((correlation))\n",
    "\n",
    "                mse = mean_squared_error((target), (prediction), squared=False)\n",
    "                mses.append(mse)\n",
    "            average_correlation = np.mean(correlations)\n",
    "            average_mse = np.mean(mses)\n",
    "            \n",
    "            correlations_cv.append(['NN',average_correlation])\n",
    "            mses_cv.append(['NN', average_mse])\n",
    "            \n",
    "            \n",
    "            correlations = []\n",
    "            mses = []\n",
    "            for target, prediction in zip(X_watch_test, y_pred_orig_dim_pls):\n",
    "                correlation = np.corrcoef((target), (prediction))[0, 1]\n",
    "                correlations.append((correlation))\n",
    "\n",
    "                mse = mean_squared_error((target), (prediction), squared=False)\n",
    "                mses.append(mse)\n",
    "            average_correlation = np.mean(correlations)\n",
    "            average_mse = np.mean(mses)\n",
    "            \n",
    "            correlations_cv.append(['pls',average_correlation])\n",
    "            mses_cv.append(['pls', average_mse])\n",
    "#             print (mses_cv, average_mse, average_correlation)\n",
    "            \n",
    "        print (qpfs_feat_num,correlations_cv,mses_cv)\n",
    "        iter_results.append([qpfs_feat_num,correlations_cv,mses_cv])\n",
    "    return iter_results\n",
    "            \n",
    "\n",
    "\n",
    "def to_riemann_space(data):\n",
    "    cov_matrices = Covariances().fit_transform(data)\n",
    "    riemann_mean = mean_riemann(cov_matrices)\n",
    "    tangent_space_data = tangent_space(cov_matrices, riemann_mean)\n",
    "    return tangent_space_data, riemann_mean\n",
    "def to_time_series(tangent_space_data, riemann_mean):\n",
    "    cov_matrices = untangent_space(tangent_space_data, riemann_mean)\n",
    "    return cov_matrices\n",
    "\n",
    "\n",
    "\n",
    "def train(model, dataloader, criterion, optimizer, device):\n",
    "    model.train()\n",
    "    epoch_loss = 0\n",
    "    for batch_data, batch_targets in dataloader:\n",
    "        batch_data = batch_data.to(device)\n",
    "        batch_targets = batch_targets.to(device)\n",
    "\n",
    "        optimizer.zero_grad()\n",
    "        predictions = model(batch_data)\n",
    "        loss = criterion(predictions, batch_targets)\n",
    "        loss.backward()\n",
    "        optimizer.step()\n",
    "        epoch_loss += loss.item()\n",
    "    return epoch_loss / len(dataloader)\n",
    "\n",
    "class CustomFullyConnected(nn.Module):\n",
    "    def __init__(self, n_ch, n_features, hidden_sizes, dropout=None):\n",
    "        super(CustomFullyConnected, self).__init__()\n",
    "        layers = []\n",
    "        input_size = n_ch * n_ch\n",
    "        self.n_ch = n_ch\n",
    "        self.n_features = n_features \n",
    "        for hidden_size in hidden_sizes:\n",
    "            layers.append(nn.Linear(input_size, hidden_size))\n",
    "            layers.append(nn.BatchNorm1d(hidden_size))\n",
    "            layers.append(nn.ReLU())\n",
    "            if dropout:\n",
    "                layers.append(nn.Dropout(p=dropout))\n",
    "            input_size = hidden_size\n",
    "            \n",
    "        layers.append(nn.Linear(input_size, n_ch * n_features))\n",
    "        self.network = nn.Sequential(*layers)\n",
    "\n",
    "    def forward(self, x):\n",
    "        x = x.view(x.size(0), -1)\n",
    "        x = self.network(x)\n",
    "        x = x.view(x.size(0), self.n_ch, self.n_features)\n",
    "        return x\n",
    "\n",
    "    \n",
    "def is_unique(s):\n",
    "    a = s.values # s.values (pandas<0.24)\n",
    "    return ((a[0] == a) & (a[0]!=0)).all()\n",
    "\n",
    "\n",
    "def collect_data(df, num_features, num_channels):\n",
    "    \"\"\"\n",
    "    Collects data in tensor format from the given dataframe and normalizes it.\n",
    "\n",
    "    Parameters:\n",
    "    df (pd.DataFrame): Dataframe containing the data.\n",
    "\n",
    "    Returns:\n",
    "    tuple: X_tensor (np.array), smart_indexes (list), watch_indexes (list)\n",
    "    \"\"\"\n",
    "\n",
    "    \n",
    "    X_tensor = np.zeros((int(len(df)/3),3, 200))\n",
    "    index = 0\n",
    "    to_select = []\n",
    "    count = 0\n",
    "    smart_indexes = []\n",
    "    watch_indexes = []\n",
    "    for user in tqdm(df.UserID.unique()):\n",
    "        for activity in df.Activity.unique():\n",
    "\n",
    "\n",
    "                if (df[(df.UserID==user) & (df.Activity==activity) ].shape[0] % 6==0) &(df[(df.UserID==user) & (df.Activity==activity) ].shape[0] // 6>=14):\n",
    "                    for _ in range(int(df[(df.UserID==user) & (df.Activity==activity) ].shape[0] // 6)):\n",
    "\n",
    "                            count += 1\n",
    "                            \n",
    "                            for device in [0,1]:\n",
    "                                to_select.append([user,activity,device])\n",
    "                                if device==0:\n",
    "                                        smart_indexes.append(index)\n",
    "                                else:\n",
    "                                        watch_indexes.append(index)\n",
    "                                \n",
    "                                \n",
    "                                for axi_ind, axis in enumerate(['x','y','z']):\n",
    "                                        row = df[(df.Device==device)&(df.UserID==user) & (df.Activity==activity) &( \n",
    "                                            df.Axis==axis)  ]\n",
    "                                        if row.shape==0:\n",
    "                                            print(row.shape,index,axis, user, activity, device)\n",
    "\n",
    "\n",
    "                                        X_tensor[index,axi_ind,:] = (row.values[0][:200])\n",
    "\n",
    "                                index+=1\n",
    "\n",
    "\n",
    "\n",
    "    return X_tensor, smart_indexes, watch_indexes\n",
    "\n",
    "\n",
    "\n",
    "\n",
    "\n",
    "\n",
    "\n",
    "import torch \n",
    "import numpy as np\n",
    "import sklearn.feature_selection as sklfs\n",
    "import scipy as sc\n",
    "import cvxpy as cvx\n",
    "from sklearn.preprocessing import MinMaxScaler, StandardScaler\n",
    "\n",
    "\n",
    "\n",
    "def get_corr_matrix(X, Y=None, fill=0):\n",
    "    if Y is None:\n",
    "        Y = X\n",
    "    if len(Y.shape) == 1:\n",
    "        Y = torch.unsqueeze(Y, dim  = 1)\n",
    "    if len(X.shape) == 1:\n",
    "        X = torch.unsqueeze(X, dim = 1)\n",
    "    \n",
    "    X_ = (X - X.mean(dim=0))\n",
    "    Y_ = (Y - Y.mean(dim=0))\n",
    "    \n",
    "    idxs_nz_x = torch.where(torch.sum(X_ ** 2, dim = 0) != 0)[0]\n",
    "    idxs_nz_y = torch.where(torch.sum(Y_ ** 2, dim = 0) != 0)[0]\n",
    "    X_ = X_[:, idxs_nz_x]\n",
    "    Y_ = Y_[:, idxs_nz_y]\n",
    "    corr = torch.ones((X.shape[1], Y.shape[1])) * fill\n",
    "    for i, x in enumerate(X_.T):\n",
    "        corr[idxs_nz_x[i], idxs_nz_y] = (Y_.T@ x) / torch.sqrt((x ** 2).sum() * (Y_ ** 2).sum(dim=0, keepdim=True))\n",
    "    return corr\n",
    "\n",
    "\n",
    "def shift_spectrum(Q, eps=0.):\n",
    "    lamb_min = sc.linalg.eigh(Q)[0][0]\n",
    "    if lamb_min < 0:\n",
    "        Q = Q - (lamb_min - eps) * torch.eye(*Q.shape)\n",
    "    return Q, lamb_min\n",
    "\n",
    "\n",
    "class QPFS:\n",
    "    def __init__(self, sim='corr', k  = 10):\n",
    "        if sim not in ['corr', 'info']:\n",
    "            raise ValueError('Similarity measure should be \"corr\" or \"info\"')\n",
    "        self.sim = sim\n",
    "        self.n_features = k\n",
    "    \n",
    "    def get_params(self, X, y):\n",
    "        if self.sim == 'corr':\n",
    "            self.Q = torch.abs(get_corr_matrix(X, fill=1))\n",
    "            self.b = torch.unsqueeze(torch.sum(torch.abs(get_corr_matrix(X, y)), dim=1),1)\n",
    "#             print (self.b)\n",
    "        elif self.sim == 'info':\n",
    "            self.Q = torch.ones([X.shape[1], X.shape[1]])\n",
    "            self.b = torch.zeros((X.shape[1], 1))\n",
    "            for j in range(self.n_features):\n",
    "                self.Q[:, j] = torch.tensor(sklfs.mutual_info_regression((X), (X[:, j])))\n",
    "            if len(y.shape) == 1:\n",
    "                self.b = torch.unsqueeze(torch.tensor(sklfs.mutual_info_regression(X, y)), dim = 1)\n",
    "            else:\n",
    "                for y_ in y:\n",
    "                    self.b += torch.tensor(sklfs.mutual_info_regression(X, y_))\n",
    "        self.n = self.Q.shape[0]\n",
    "    \n",
    "    def get_alpha(self):\n",
    "        return self.Q.mean() / (self.Q.mean() + self.b.mean())\n",
    "\n",
    "    def fit(self, X, y):\n",
    "        self.get_params(X, y)\n",
    "        alpha = self.get_alpha()\n",
    "        self.solve_problem(alpha)\n",
    "    \n",
    "    def solve_problem(self, alpha):\n",
    "        \n",
    "        c = torch.ones((self.n, 1))\n",
    "        \n",
    "        Q, _ = shift_spectrum(self.Q)\n",
    "        \n",
    "        x = cvx.Variable(self.n)\n",
    "        objective = cvx.Minimize((1 - alpha) * cvx.quad_form(x, Q) - \n",
    "                                 alpha * self.b.T * x)\n",
    "        constraints = [x >= 0, c.T * x == 1]\n",
    "        prob = cvx.Problem(objective, constraints)\n",
    "\n",
    "        prob.solve()\n",
    "\n",
    "        self.status = prob.status\n",
    "        self.score = torch.tensor(x.value).flatten()\n",
    "        \n",
    "    def get_topk_indices(self):\n",
    "        return torch.argsort(self.score).flip(dims = [0])[:self.n_features]\n",
    "    \n",
    "    \n",
    "\n",
    "\n",
    "                            \n",
    "import torch.nn as nn\n",
    "\n",
    "class RiemannFullyConnected(nn.Module):\n",
    "    def __init__(self, n_features, hidden_sizes, dropout=None):\n",
    "        super().__init__()\n",
    "        layers = []\n",
    "        input_size = n_features\n",
    "        self.n_features = n_features\n",
    "        for hidden_size in hidden_sizes:\n",
    "            layers.append(nn.Linear(input_size, hidden_size))\n",
    "            layers.append(nn.BatchNorm1d(hidden_size))\n",
    "            layers.append(nn.ReLU())\n",
    "            if dropout:\n",
    "                layers.append(nn.Dropout(p=dropout))\n",
    "            input_size = hidden_size\n",
    "            \n",
    "        layers.append(nn.Linear(input_size, n_features))\n",
    "        self.network = nn.Sequential(*layers)\n",
    "\n",
    "    def forward(self, x):\n",
    "        x = x.view(x.size(0), -1)\n",
    "        x = self.network(x)\n",
    "        x = x.view(x.size(0), self.n_features)\n",
    "        return x\n",
    "\n",
    "    \n",
    "    \n",
    "\n",
    "\n",
    "\n",
    "\n",
    "\n",
    "def prepare_dataset(reconstructed_data_train, X_tensor, BATCH_SIZE):\n",
    "    \"\"\"\n",
    "    Prepare dataset and dataloader for training.\n",
    "    \n",
    "    Parameters:\n",
    "    reconstructed_data_train (np.array): The training data reconstructed by the model.\n",
    "    X_tensor (np.array): The tensor data.\n",
    "    \n",
    "    Returns:\n",
    "    DataLoader: DataLoader for the training data.\n",
    "    \"\"\"\n",
    "    dataset = TensorDataset(torch.tensor(reconstructed_data_train).double(), torch.tensor(X_tensor).double())\n",
    "    train_loader = DataLoader(dataset, batch_size=BATCH_SIZE, shuffle=True)\n",
    "    return train_loader\n",
    "    \n",
    "\n",
    "    \n",
    "from itertools import product\n",
    "import tensorly as tl\n",
    "from tensorly.decomposition import tucker\n",
    "from tensorly.tenalg import mode_dot, multi_mode_dot, kronecker\n",
    "import numpy as np\n",
    "import torch\n",
    "\n",
    "from sklearn.model_selection import KFold\n",
    "\n",
    "\n",
    "def plot_data(prediction_data, target_data):\n",
    "    \"\"\"\n",
    "    Plot prediction data against the target data.\n",
    "\n",
    "    Parameters:\n",
    "    prediction_data (np.array): The data predicted by the model.\n",
    "    target_data (np.array): The target data.\n",
    "\n",
    "    Returns:\n",
    "    None\n",
    "    \"\"\"\n",
    "    \n",
    "    \n",
    "    axis = ['x', 'y', 'z']\n",
    "    for AXIS in range(3):\n",
    "        plt.figure(figsize=(10,5))\n",
    "        plt.plot(min_max_normalize_data(prediction_data[AXIS]), label='prediction')\n",
    "        plt.plot(min_max_normalize_data(target_data[AXIS]), label='target')\n",
    "        plt.legend()\n",
    "        plt.title(axis[AXIS])\n",
    "        plt.ylabel('Signal')\n",
    "        plt.xlabel('T')\n",
    "        plt.show()\n",
    "# model = QPFS(k = 100)\n",
    "# model.fit(torch.tensor(X_tensor[:10012*2,2,:][::2]),torch.tensor(X_tensor[:10012*2,2,:][1::2]))\n",
    "# model.get_topk_indices()\n",
    "from sklearn.metrics import mean_squared_error\n",
    "from sklearn.preprocessing import MinMaxScaler, StandardScaler\n",
    "DEVICE = torch.device('cuda' if torch.cuda.is_available() else 'cpu')\n",
    "\n",
    "\n",
    "\n",
    "def train_model(model, train_loader, n_epochs, criterion, optimizer, device):\n",
    "    for epoch in range(n_epochs):\n",
    "        train_loss = train(model, train_loader, criterion, optimizer, device)\n",
    "    model.eval()\n",
    "    return model\n",
    "\n",
    "def eval_model(model, input_data, device):\n",
    "    with torch.no_grad():\n",
    "        output_data = model(Variable(input_data).double().to(device))\n",
    "    return output_data\n",
    "\n",
    "def get_correlation_and_mse(X_tensor_old, output_data_series, train_index, last_index):\n",
    "    correlations = []\n",
    "    mses = []\n",
    "    for target, prediction in zip(X_tensor_old[train_index:last_index,:,:][1::2], output_data_series.cpu().numpy()):\n",
    "        correlation = np.corrcoef(target, prediction)[0, 1]\n",
    "        correlations.append(correlation)\n",
    "\n",
    "        mse = mean_squared_error(target, prediction, squared=False)\n",
    "        mses.append(mse)\n",
    "    average_correlation = np.mean(correlations)\n",
    "    average_mse = np.mean(mses)\n",
    "    return average_correlation, average_mse\n"
   ]
  },
  {
   "cell_type": "code",
   "execution_count": 2,
   "id": "701fe0bc",
   "metadata": {},
   "outputs": [],
   "source": [
    "df = np.load('xyz_acc.npy', allow_pickle =True) #np.load('series.npy', allow_pickle=True)\n",
    "df = pd.DataFrame(df, columns = [str(i) for i in np.arange(2950)]+ ['Axis','UserID', 'Activity', 'Device'])\n",
    "df.drop(df[(df.Device==1) & (df.UserID==1607) & (df.Activity=='J')].index[0], inplace = True)\n",
    "df.drop(df[(df.Device==1) & (df.UserID==1609) & (df.Activity=='B')].index[0], inplace = True)\n",
    "df.drop(df[(df.Device==1) & (df.UserID==1616) & (df.Activity=='F')].index[0], inplace = True)\n",
    "df.drop(df[(df.Device==0) & (df.UserID==1637) & (df.Activity=='J')].index[0], inplace = True)\n",
    "df.drop(df[(df.Device==0) & (df.UserID==1639) & (df.Activity=='L')].index[0], inplace = True)\n",
    "df.drop(df[(df.Device==1) & (df.UserID==1643) & (df.Activity=='I')].index[0], inplace = True)"
   ]
  },
  {
   "cell_type": "code",
   "execution_count": 3,
   "id": "666b424b",
   "metadata": {},
   "outputs": [
    {
     "name": "stderr",
     "output_type": "stream",
     "text": [
      "5460it [00:38, 143.42it/s]\n"
     ]
    }
   ],
   "source": [
    "# Создаем список для хранения новых строк\n",
    "new_rows = []\n",
    "\n",
    "for i, row in tqdm(df.iterrows()):\n",
    "    for j in range(14):  # 2800 / 200 = 14\n",
    "        # Разбиваем строку на 200-точечные фрагменты и сохраняем их как новые строки\n",
    "        new_row = row[j*200:(j+1)*200].tolist()\n",
    "        # Добавляем информацию из столбцов 'Axis','UserID', 'Activity', 'Device'\n",
    "        new_row.extend(row[['Axis', 'UserID', 'Activity', 'Device']])\n",
    "        new_rows.append(new_row)\n",
    "\n",
    "# Преобразуем список списков в DataFrame\n",
    "new_df = pd.DataFrame(new_rows, columns=[f'val_{i}' for i in range(200)] + ['Axis', 'UserID', 'Activity', 'Device'])\n"
   ]
  },
  {
   "cell_type": "code",
   "execution_count": 4,
   "id": "515470c9",
   "metadata": {},
   "outputs": [],
   "source": [
    "df = pd.DataFrame(new_rows, columns=[f'val_{i}' for i in range(200)] + ['Axis', 'UserID', 'Activity', 'Device'])\n",
    "\n",
    "\n",
    "\n",
    "scaler = MinMaxScaler()\n",
    "\n",
    "df[df.columns[0:200]] = scaler.fit_transform(df[df.columns[0:200]])"
   ]
  },
  {
   "cell_type": "code",
   "execution_count": 5,
   "id": "3a116dff",
   "metadata": {},
   "outputs": [],
   "source": [
    "N_FEATURES = 200\n",
    "N_CH = 3\n"
   ]
  },
  {
   "cell_type": "code",
   "execution_count": 6,
   "id": "6a8b6cbc",
   "metadata": {},
   "outputs": [
    {
     "name": "stderr",
     "output_type": "stream",
     "text": [
      "100%|██████████| 51/51 [14:50<00:00, 17.47s/it]\n"
     ]
    }
   ],
   "source": [
    "X_tensor, smart_indexes, watch_indexes = collect_data(df, N_FEATURES, N_CH)\n"
   ]
  },
  {
   "cell_type": "code",
   "execution_count": 9,
   "id": "03ae1853",
   "metadata": {},
   "outputs": [],
   "source": [
    "\n",
    "\n",
    "X_arr = np.sqrt(np.sum(np.square(X_tensor), axis=1))\n",
    "    "
   ]
  },
  {
   "cell_type": "code",
   "execution_count": 144,
   "id": "040acc25",
   "metadata": {},
   "outputs": [],
   "source": [
    "qpfs_feat = [[ 97,   0,   4,   7,   8, 166,  16,  99, 121,  14,   9,  71,  57,  80,\n",
    "         32,  77,  58,  44,  49, 136,  83,  13,  64, 164,  69,  93,  94,  72,\n",
    "         12,  70,  34,  41,  39,  20, 132,  45,  78,  48, 115,  92,  65,  11,\n",
    "         75, 144,  55,  15,  25,  89,  26,  96, 157,  76,  46,  60, 103,  40,\n",
    "         68,  90,  28,  43,  95,  10,  30,  91,  98,  81,  61, 134,  63,  53,\n",
    "         18,  73,  50,  84,  31, 150,  17,  52, 124, 158,  19, 122,   2, 113,\n",
    "         37, 117, 105, 142, 131, 120,  66, 143, 118, 152, 128,  85,  33, 106,\n",
    "          5,  23,  87, 133, 159,   1, 100, 151, 137, 112,  24,  54,  36, 119,\n",
    "         56,  21, 165,  62, 194, 148, 123, 101, 189, 190, 145,  88, 102, 188,\n",
    "        154, 126, 195, 183, 149, 153, 193, 184,  79, 129, 107, 146,  22,  86,\n",
    "          6, 156, 147,  42, 141, 182, 196, 155, 192, 174],\n",
    "[ 16,   1, 149, 131, 117,   2, 198,   5, 122,   7,  97,  89,  80,  42,\n",
    "         40,  66,  24,  43,  17,  75,  12,  79, 120,  72,  33, 129, 123,  60,\n",
    "         67,  51,  11,  15, 103,  14,  69,  25,  87,  36,  85,  68,  30,  35,\n",
    "         95,  83,  70, 121, 127,  37,  74,  73,  23,  81,  21,  98,  65,  18,\n",
    "        126, 108,  86,  52,  64,   9,  99, 124,  45,  34,  88,  90, 112, 119,\n",
    "         92, 101,   8,  19,  49,  13,  58,  96,  91,   6,  62,  31, 100,  94,\n",
    "         46,   4, 110, 192, 136,  76, 190,  41,  82,  93, 151, 135,  22, 102,\n",
    "        155, 138, 133, 139, 153, 150, 193, 137, 148,  50,  48, 159, 130, 134,\n",
    "        166, 172, 106, 128, 189, 156,  10, 140, 171, 195, 196, 114,  61, 141,\n",
    "        152, 178, 158, 147, 142, 160, 181, 162, 184, 199, 191, 143, 170, 185,\n",
    "        157, 144, 177,  63, 187,  59, 173, 161, 154, 167],\n",
    "\n",
    "[ 16,   1, 131, 117,   2,   5,   7, 122,  97,  24, 118,  10,   0,  67,\n",
    "         76,  29,  17,  27,  52,  56,  83,  96,  51,  11,  77,  18,  31,  61,\n",
    "         15,  86,  92,  33,  42,  68,  49,  20,  19,  41, 114,  79,  30, 101,\n",
    "         82,  70,  85,  21, 129,  93, 107,   4,  40,  66, 100,  25,  69,  28,\n",
    "         78,  12,  45,  32,  98,   8,  23,  81, 128, 111,  57, 110,  13,  58,\n",
    "         99, 119,  75,  94,  46,  80,  95,  64,  35,  43, 106,  59, 123,  53,\n",
    "         89,  73,  26,  91, 130,  48,  50,  22, 102,  60,  14, 155,   3,  90,\n",
    "         54,  84,  47, 154,  87, 104, 157, 186,  72, 136, 197, 144, 161,  37,\n",
    "         74, 137, 121,  39, 191, 156, 166, 181, 177, 162, 176, 198, 159, 171,\n",
    "        148,  36, 112, 158, 116, 183,  34,  88,   6, 151, 179, 173, 194, 132,\n",
    "        150, 126, 133, 109, 145, 141, 160,  63, 153, 140]]\n",
    "\n",
    "\n"
   ]
  },
  {
   "cell_type": "code",
   "execution_count": null,
   "id": "aafd4581",
   "metadata": {},
   "outputs": [],
   "source": [
    "\n",
    "\n",
    "\n",
    "last_index = np.nonzero(X_tensor)[0][-1] if np.nonzero(X_tensor)[0][-1] % 2==0 else np.nonzero(X_tensor)[0][-1]-1\n",
    "train_index = int(last_index*0.8) if int(last_index*0.8) % 2==0 else int(last_index*0.8)-1\n",
    "\n",
    "X_tensor = X_tensor[:last_index]\n",
    "X_tensor_old = X_tensor.copy()"
   ]
  },
  {
   "cell_type": "code",
   "execution_count": 119,
   "id": "c8e74af8",
   "metadata": {},
   "outputs": [],
   "source": [
    "X_arr = np.sqrt(np.sum(np.square(X_tensor_old), axis=1))\n",
    "X_arr = scaler.fit_transform(X_arr)\n",
    "\n",
    "X_arr_old = X_arr.copy()"
   ]
  },
  {
   "cell_type": "code",
   "execution_count": null,
   "id": "4d94d275",
   "metadata": {},
   "outputs": [],
   "source": []
  },
  {
   "cell_type": "code",
   "execution_count": 154,
   "id": "6cd11399",
   "metadata": {
    "scrolled": true
   },
   "outputs": [
    {
     "name": "stderr",
     "output_type": "stream",
     "text": [
      "  0%|          | 0/13 [00:00<?, ?it/s]"
     ]
    },
    {
     "name": "stdout",
     "output_type": "stream",
     "text": [
      "torch.Size([10168, 10])\n",
      "40\n",
      "40\n"
     ]
    },
    {
     "name": "stderr",
     "output_type": "stream",
     "text": [
      "/home/rosafiullin/anaconda3/lib/python3.9/site-packages/sklearn/cross_decomposition/_pls.py:230: FutureWarning: As of version 0.24, n_components(20) should be in [1, n_features].n_components=16 will be used instead. In version 1.1 (renaming of 0.26), an error will be raised.\n",
      "  warnings.warn(\n"
     ]
    },
    {
     "name": "stdout",
     "output_type": "stream",
     "text": [
      "torch.Size([10169, 10])\n",
      "40\n",
      "40\n"
     ]
    },
    {
     "name": "stderr",
     "output_type": "stream",
     "text": [
      "/home/rosafiullin/anaconda3/lib/python3.9/site-packages/sklearn/cross_decomposition/_pls.py:230: FutureWarning: As of version 0.24, n_components(20) should be in [1, n_features].n_components=16 will be used instead. In version 1.1 (renaming of 0.26), an error will be raised.\n",
      "  warnings.warn(\n"
     ]
    },
    {
     "name": "stdout",
     "output_type": "stream",
     "text": [
      "torch.Size([10169, 10])\n",
      "40\n",
      "40\n"
     ]
    },
    {
     "name": "stderr",
     "output_type": "stream",
     "text": [
      "/home/rosafiullin/anaconda3/lib/python3.9/site-packages/sklearn/cross_decomposition/_pls.py:230: FutureWarning: As of version 0.24, n_components(20) should be in [1, n_features].n_components=16 will be used instead. In version 1.1 (renaming of 0.26), an error will be raised.\n",
      "  warnings.warn(\n"
     ]
    },
    {
     "name": "stdout",
     "output_type": "stream",
     "text": [
      "torch.Size([10169, 10])\n",
      "40\n",
      "40\n"
     ]
    },
    {
     "name": "stderr",
     "output_type": "stream",
     "text": [
      "/home/rosafiullin/anaconda3/lib/python3.9/site-packages/sklearn/cross_decomposition/_pls.py:230: FutureWarning: As of version 0.24, n_components(20) should be in [1, n_features].n_components=16 will be used instead. In version 1.1 (renaming of 0.26), an error will be raised.\n",
      "  warnings.warn(\n"
     ]
    },
    {
     "name": "stdout",
     "output_type": "stream",
     "text": [
      "torch.Size([10169, 10])\n",
      "40\n",
      "40\n"
     ]
    },
    {
     "name": "stderr",
     "output_type": "stream",
     "text": [
      "/home/rosafiullin/anaconda3/lib/python3.9/site-packages/sklearn/cross_decomposition/_pls.py:230: FutureWarning: As of version 0.24, n_components(20) should be in [1, n_features].n_components=16 will be used instead. In version 1.1 (renaming of 0.26), an error will be raised.\n",
      "  warnings.warn(\n",
      "  8%|▊         | 1/13 [02:52<34:30, 172.56s/it]"
     ]
    },
    {
     "name": "stdout",
     "output_type": "stream",
     "text": [
      "10 [['NN', 0.7432780687222434], ['pls', 0.743446164981386], ['NN', 0.7447139398550391], ['pls', 0.7446681736996503], ['NN', 0.7570515935716022], ['pls', 0.7570269996296258], ['NN', 0.7548982716735326], ['pls', 0.7547979680075507], ['NN', 0.7462793591153549], ['pls', 0.7462566211118744]] [['NN', 0.10534315], ['pls', 0.105219856], ['NN', 0.10512679], ['pls', 0.10508168], ['NN', 0.1023919], ['pls', 0.10224325], ['NN', 0.10422647], ['pls', 0.10409954], ['NN', 0.104790844], ['pls', 0.10488618]]\n",
      "torch.Size([10168, 20])\n",
      "40\n",
      "40\n"
     ]
    },
    {
     "name": "stderr",
     "output_type": "stream",
     "text": [
      "/home/rosafiullin/anaconda3/lib/python3.9/site-packages/sklearn/cross_decomposition/_pls.py:230: FutureWarning: As of version 0.24, n_components(20) should be in [1, n_features].n_components=16 will be used instead. In version 1.1 (renaming of 0.26), an error will be raised.\n",
      "  warnings.warn(\n"
     ]
    },
    {
     "name": "stdout",
     "output_type": "stream",
     "text": [
      "torch.Size([10169, 20])\n",
      "40\n",
      "40\n"
     ]
    },
    {
     "name": "stderr",
     "output_type": "stream",
     "text": [
      "/home/rosafiullin/anaconda3/lib/python3.9/site-packages/sklearn/cross_decomposition/_pls.py:230: FutureWarning: As of version 0.24, n_components(20) should be in [1, n_features].n_components=16 will be used instead. In version 1.1 (renaming of 0.26), an error will be raised.\n",
      "  warnings.warn(\n"
     ]
    },
    {
     "name": "stdout",
     "output_type": "stream",
     "text": [
      "torch.Size([10169, 20])\n",
      "40\n",
      "40\n"
     ]
    },
    {
     "name": "stderr",
     "output_type": "stream",
     "text": [
      "/home/rosafiullin/anaconda3/lib/python3.9/site-packages/sklearn/cross_decomposition/_pls.py:230: FutureWarning: As of version 0.24, n_components(20) should be in [1, n_features].n_components=16 will be used instead. In version 1.1 (renaming of 0.26), an error will be raised.\n",
      "  warnings.warn(\n"
     ]
    },
    {
     "name": "stdout",
     "output_type": "stream",
     "text": [
      "torch.Size([10169, 20])\n",
      "40\n",
      "40\n"
     ]
    },
    {
     "name": "stderr",
     "output_type": "stream",
     "text": [
      "/home/rosafiullin/anaconda3/lib/python3.9/site-packages/sklearn/cross_decomposition/_pls.py:230: FutureWarning: As of version 0.24, n_components(20) should be in [1, n_features].n_components=16 will be used instead. In version 1.1 (renaming of 0.26), an error will be raised.\n",
      "  warnings.warn(\n"
     ]
    },
    {
     "name": "stdout",
     "output_type": "stream",
     "text": [
      "torch.Size([10169, 20])\n",
      "40\n",
      "40\n"
     ]
    },
    {
     "name": "stderr",
     "output_type": "stream",
     "text": [
      "/home/rosafiullin/anaconda3/lib/python3.9/site-packages/sklearn/cross_decomposition/_pls.py:230: FutureWarning: As of version 0.24, n_components(20) should be in [1, n_features].n_components=16 will be used instead. In version 1.1 (renaming of 0.26), an error will be raised.\n",
      "  warnings.warn(\n",
      " 15%|█▌        | 2/13 [05:46<31:49, 173.61s/it]"
     ]
    },
    {
     "name": "stdout",
     "output_type": "stream",
     "text": [
      "20 [['NN', 0.741756906846348], ['pls', 0.7416517278648745], ['NN', 0.74536197842327], ['pls', 0.7454407233648035], ['NN', 0.7569901991917986], ['pls', 0.7569517007082981], ['NN', 0.7540657114855094], ['pls', 0.7540716633857063], ['NN', 0.7455331267127512], ['pls', 0.7456838932887728]] [['NN', 0.10539754], ['pls', 0.105311185], ['NN', 0.10510729], ['pls', 0.10498066], ['NN', 0.102308966], ['pls', 0.102220714], ['NN', 0.1043732], ['pls', 0.104313545], ['NN', 0.105025515], ['pls', 0.10499728]]\n",
      "torch.Size([10168, 30])\n",
      "40\n",
      "40\n"
     ]
    },
    {
     "name": "stderr",
     "output_type": "stream",
     "text": [
      "/home/rosafiullin/anaconda3/lib/python3.9/site-packages/sklearn/cross_decomposition/_pls.py:230: FutureWarning: As of version 0.24, n_components(20) should be in [1, n_features].n_components=16 will be used instead. In version 1.1 (renaming of 0.26), an error will be raised.\n",
      "  warnings.warn(\n"
     ]
    },
    {
     "name": "stdout",
     "output_type": "stream",
     "text": [
      "torch.Size([10169, 30])\n",
      "40\n",
      "40\n"
     ]
    },
    {
     "name": "stderr",
     "output_type": "stream",
     "text": [
      "/home/rosafiullin/anaconda3/lib/python3.9/site-packages/sklearn/cross_decomposition/_pls.py:230: FutureWarning: As of version 0.24, n_components(20) should be in [1, n_features].n_components=16 will be used instead. In version 1.1 (renaming of 0.26), an error will be raised.\n",
      "  warnings.warn(\n"
     ]
    },
    {
     "name": "stdout",
     "output_type": "stream",
     "text": [
      "torch.Size([10169, 30])\n",
      "40\n",
      "40\n"
     ]
    },
    {
     "name": "stderr",
     "output_type": "stream",
     "text": [
      "/home/rosafiullin/anaconda3/lib/python3.9/site-packages/sklearn/cross_decomposition/_pls.py:230: FutureWarning: As of version 0.24, n_components(20) should be in [1, n_features].n_components=16 will be used instead. In version 1.1 (renaming of 0.26), an error will be raised.\n",
      "  warnings.warn(\n"
     ]
    },
    {
     "name": "stdout",
     "output_type": "stream",
     "text": [
      "torch.Size([10169, 30])\n",
      "40\n",
      "40\n"
     ]
    },
    {
     "name": "stderr",
     "output_type": "stream",
     "text": [
      "/home/rosafiullin/anaconda3/lib/python3.9/site-packages/sklearn/cross_decomposition/_pls.py:230: FutureWarning: As of version 0.24, n_components(20) should be in [1, n_features].n_components=16 will be used instead. In version 1.1 (renaming of 0.26), an error will be raised.\n",
      "  warnings.warn(\n"
     ]
    },
    {
     "name": "stdout",
     "output_type": "stream",
     "text": [
      "torch.Size([10169, 30])\n",
      "40\n",
      "40\n"
     ]
    },
    {
     "name": "stderr",
     "output_type": "stream",
     "text": [
      "/home/rosafiullin/anaconda3/lib/python3.9/site-packages/sklearn/cross_decomposition/_pls.py:230: FutureWarning: As of version 0.24, n_components(20) should be in [1, n_features].n_components=16 will be used instead. In version 1.1 (renaming of 0.26), an error will be raised.\n",
      "  warnings.warn(\n",
      " 23%|██▎       | 3/13 [08:46<29:25, 176.55s/it]"
     ]
    },
    {
     "name": "stdout",
     "output_type": "stream",
     "text": [
      "30 [['NN', 0.7441421582523757], ['pls', 0.7440903518705271], ['NN', 0.7457413640539037], ['pls', 0.7459794586842736], ['NN', 0.7574766617247384], ['pls', 0.7575123347135239], ['NN', 0.7546823323806368], ['pls', 0.7549529999708385], ['NN', 0.7452674846297368], ['pls', 0.7459310434416873]] [['NN', 0.10511677], ['pls', 0.10512844], ['NN', 0.10522694], ['pls', 0.10499908], ['NN', 0.10247013], ['pls', 0.1021], ['NN', 0.10456895], ['pls', 0.1042938], ['NN', 0.10524101], ['pls', 0.10500798]]\n",
      "torch.Size([10168, 40])\n",
      "40\n",
      "40\n"
     ]
    },
    {
     "name": "stderr",
     "output_type": "stream",
     "text": [
      "/home/rosafiullin/anaconda3/lib/python3.9/site-packages/sklearn/cross_decomposition/_pls.py:230: FutureWarning: As of version 0.24, n_components(20) should be in [1, n_features].n_components=16 will be used instead. In version 1.1 (renaming of 0.26), an error will be raised.\n",
      "  warnings.warn(\n"
     ]
    },
    {
     "name": "stdout",
     "output_type": "stream",
     "text": [
      "torch.Size([10169, 40])\n",
      "40\n",
      "40\n"
     ]
    },
    {
     "name": "stderr",
     "output_type": "stream",
     "text": [
      "/home/rosafiullin/anaconda3/lib/python3.9/site-packages/sklearn/cross_decomposition/_pls.py:230: FutureWarning: As of version 0.24, n_components(20) should be in [1, n_features].n_components=16 will be used instead. In version 1.1 (renaming of 0.26), an error will be raised.\n",
      "  warnings.warn(\n"
     ]
    },
    {
     "name": "stdout",
     "output_type": "stream",
     "text": [
      "torch.Size([10169, 40])\n",
      "40\n",
      "40\n"
     ]
    },
    {
     "name": "stderr",
     "output_type": "stream",
     "text": [
      "/home/rosafiullin/anaconda3/lib/python3.9/site-packages/sklearn/cross_decomposition/_pls.py:230: FutureWarning: As of version 0.24, n_components(20) should be in [1, n_features].n_components=16 will be used instead. In version 1.1 (renaming of 0.26), an error will be raised.\n",
      "  warnings.warn(\n"
     ]
    },
    {
     "name": "stdout",
     "output_type": "stream",
     "text": [
      "torch.Size([10169, 40])\n",
      "40\n",
      "40\n"
     ]
    },
    {
     "name": "stderr",
     "output_type": "stream",
     "text": [
      "/home/rosafiullin/anaconda3/lib/python3.9/site-packages/sklearn/cross_decomposition/_pls.py:230: FutureWarning: As of version 0.24, n_components(20) should be in [1, n_features].n_components=16 will be used instead. In version 1.1 (renaming of 0.26), an error will be raised.\n",
      "  warnings.warn(\n"
     ]
    },
    {
     "name": "stdout",
     "output_type": "stream",
     "text": [
      "torch.Size([10169, 40])\n",
      "40\n",
      "40\n"
     ]
    },
    {
     "name": "stderr",
     "output_type": "stream",
     "text": [
      "/home/rosafiullin/anaconda3/lib/python3.9/site-packages/sklearn/cross_decomposition/_pls.py:230: FutureWarning: As of version 0.24, n_components(20) should be in [1, n_features].n_components=16 will be used instead. In version 1.1 (renaming of 0.26), an error will be raised.\n",
      "  warnings.warn(\n",
      " 31%|███       | 4/13 [11:44<26:31, 176.80s/it]"
     ]
    },
    {
     "name": "stdout",
     "output_type": "stream",
     "text": [
      "40 [['NN', 0.744261326533643], ['pls', 0.7442087723489779], ['NN', 0.7451447340988013], ['pls', 0.744911624378233], ['NN', 0.7567374936763809], ['pls', 0.7566444826838987], ['NN', 0.754396233331889], ['pls', 0.7545119236830226], ['NN', 0.7455093245943537], ['pls', 0.7455277601627228]] [['NN', 0.10514253], ['pls', 0.10523966], ['NN', 0.10496169], ['pls', 0.10503979], ['NN', 0.102310814], ['pls', 0.10222049], ['NN', 0.10440089], ['pls', 0.104299895], ['NN', 0.10502766], ['pls', 0.104998395]]\n",
      "torch.Size([10168, 50])\n",
      "40\n",
      "40\n"
     ]
    },
    {
     "name": "stderr",
     "output_type": "stream",
     "text": [
      "/home/rosafiullin/anaconda3/lib/python3.9/site-packages/sklearn/cross_decomposition/_pls.py:230: FutureWarning: As of version 0.24, n_components(20) should be in [1, n_features].n_components=16 will be used instead. In version 1.1 (renaming of 0.26), an error will be raised.\n",
      "  warnings.warn(\n"
     ]
    },
    {
     "name": "stdout",
     "output_type": "stream",
     "text": [
      "torch.Size([10169, 50])\n",
      "40\n",
      "40\n"
     ]
    },
    {
     "name": "stderr",
     "output_type": "stream",
     "text": [
      "/home/rosafiullin/anaconda3/lib/python3.9/site-packages/sklearn/cross_decomposition/_pls.py:230: FutureWarning: As of version 0.24, n_components(20) should be in [1, n_features].n_components=16 will be used instead. In version 1.1 (renaming of 0.26), an error will be raised.\n",
      "  warnings.warn(\n"
     ]
    },
    {
     "name": "stdout",
     "output_type": "stream",
     "text": [
      "torch.Size([10169, 50])\n",
      "40\n",
      "40\n"
     ]
    },
    {
     "name": "stderr",
     "output_type": "stream",
     "text": [
      "/home/rosafiullin/anaconda3/lib/python3.9/site-packages/sklearn/cross_decomposition/_pls.py:230: FutureWarning: As of version 0.24, n_components(20) should be in [1, n_features].n_components=16 will be used instead. In version 1.1 (renaming of 0.26), an error will be raised.\n",
      "  warnings.warn(\n"
     ]
    },
    {
     "name": "stdout",
     "output_type": "stream",
     "text": [
      "torch.Size([10169, 50])\n",
      "40\n",
      "40\n"
     ]
    },
    {
     "name": "stderr",
     "output_type": "stream",
     "text": [
      "/home/rosafiullin/anaconda3/lib/python3.9/site-packages/sklearn/cross_decomposition/_pls.py:230: FutureWarning: As of version 0.24, n_components(20) should be in [1, n_features].n_components=16 will be used instead. In version 1.1 (renaming of 0.26), an error will be raised.\n",
      "  warnings.warn(\n"
     ]
    },
    {
     "name": "stdout",
     "output_type": "stream",
     "text": [
      "torch.Size([10169, 50])\n",
      "40\n",
      "40\n"
     ]
    },
    {
     "name": "stderr",
     "output_type": "stream",
     "text": [
      "/home/rosafiullin/anaconda3/lib/python3.9/site-packages/sklearn/cross_decomposition/_pls.py:230: FutureWarning: As of version 0.24, n_components(20) should be in [1, n_features].n_components=16 will be used instead. In version 1.1 (renaming of 0.26), an error will be raised.\n",
      "  warnings.warn(\n",
      " 38%|███▊      | 5/13 [14:36<23:22, 175.25s/it]"
     ]
    },
    {
     "name": "stdout",
     "output_type": "stream",
     "text": [
      "50 [['NN', 0.744225283454991], ['pls', 0.7440526192333556], ['NN', 0.745188424095966], ['pls', 0.745188380688366], ['NN', 0.7564227386800304], ['pls', 0.7565550499025425], ['NN', 0.7545415978862549], ['pls', 0.7548425046511289], ['NN', 0.7453042080716895], ['pls', 0.7457722589230601]] [['NN', 0.1049989], ['pls', 0.10517303], ['NN', 0.105201945], ['pls', 0.105049424], ['NN', 0.10238614], ['pls', 0.10230018], ['NN', 0.104422554], ['pls', 0.10420325], ['NN', 0.1053563], ['pls', 0.10496181]]\n",
      "torch.Size([10168, 60])\n",
      "40\n",
      "40\n"
     ]
    },
    {
     "name": "stderr",
     "output_type": "stream",
     "text": [
      "/home/rosafiullin/anaconda3/lib/python3.9/site-packages/sklearn/cross_decomposition/_pls.py:230: FutureWarning: As of version 0.24, n_components(20) should be in [1, n_features].n_components=16 will be used instead. In version 1.1 (renaming of 0.26), an error will be raised.\n",
      "  warnings.warn(\n"
     ]
    },
    {
     "name": "stdout",
     "output_type": "stream",
     "text": [
      "torch.Size([10169, 60])\n",
      "40\n",
      "40\n"
     ]
    },
    {
     "name": "stderr",
     "output_type": "stream",
     "text": [
      "/home/rosafiullin/anaconda3/lib/python3.9/site-packages/sklearn/cross_decomposition/_pls.py:230: FutureWarning: As of version 0.24, n_components(20) should be in [1, n_features].n_components=16 will be used instead. In version 1.1 (renaming of 0.26), an error will be raised.\n",
      "  warnings.warn(\n"
     ]
    },
    {
     "name": "stdout",
     "output_type": "stream",
     "text": [
      "torch.Size([10169, 60])\n",
      "40\n",
      "40\n"
     ]
    },
    {
     "name": "stderr",
     "output_type": "stream",
     "text": [
      "/home/rosafiullin/anaconda3/lib/python3.9/site-packages/sklearn/cross_decomposition/_pls.py:230: FutureWarning: As of version 0.24, n_components(20) should be in [1, n_features].n_components=16 will be used instead. In version 1.1 (renaming of 0.26), an error will be raised.\n",
      "  warnings.warn(\n"
     ]
    },
    {
     "name": "stdout",
     "output_type": "stream",
     "text": [
      "torch.Size([10169, 60])\n",
      "40\n",
      "40\n"
     ]
    },
    {
     "name": "stderr",
     "output_type": "stream",
     "text": [
      "/home/rosafiullin/anaconda3/lib/python3.9/site-packages/sklearn/cross_decomposition/_pls.py:230: FutureWarning: As of version 0.24, n_components(20) should be in [1, n_features].n_components=16 will be used instead. In version 1.1 (renaming of 0.26), an error will be raised.\n",
      "  warnings.warn(\n"
     ]
    },
    {
     "name": "stdout",
     "output_type": "stream",
     "text": [
      "torch.Size([10169, 60])\n",
      "40\n",
      "40\n"
     ]
    },
    {
     "name": "stderr",
     "output_type": "stream",
     "text": [
      "/home/rosafiullin/anaconda3/lib/python3.9/site-packages/sklearn/cross_decomposition/_pls.py:230: FutureWarning: As of version 0.24, n_components(20) should be in [1, n_features].n_components=16 will be used instead. In version 1.1 (renaming of 0.26), an error will be raised.\n",
      "  warnings.warn(\n",
      " 46%|████▌     | 6/13 [17:33<20:31, 175.95s/it]"
     ]
    },
    {
     "name": "stdout",
     "output_type": "stream",
     "text": [
      "60 [['NN', 0.7436483107572767], ['pls', 0.7439946488913652], ['NN', 0.7454456393324067], ['pls', 0.7453818785856107], ['NN', 0.7567980632303165], ['pls', 0.7569013682039264], ['NN', 0.7545428757101306], ['pls', 0.7548629949585688], ['NN', 0.7448572450752818], ['pls', 0.7450964500374343]] [['NN', 0.10515789], ['pls', 0.105074905], ['NN', 0.10516004], ['pls', 0.105112806], ['NN', 0.102384456], ['pls', 0.1022373], ['NN', 0.10452196], ['pls', 0.10422322], ['NN', 0.10521428], ['pls', 0.105001636]]\n",
      "torch.Size([10168, 70])\n",
      "40\n",
      "40\n"
     ]
    },
    {
     "name": "stderr",
     "output_type": "stream",
     "text": [
      "/home/rosafiullin/anaconda3/lib/python3.9/site-packages/sklearn/cross_decomposition/_pls.py:230: FutureWarning: As of version 0.24, n_components(20) should be in [1, n_features].n_components=16 will be used instead. In version 1.1 (renaming of 0.26), an error will be raised.\n",
      "  warnings.warn(\n"
     ]
    },
    {
     "name": "stdout",
     "output_type": "stream",
     "text": [
      "torch.Size([10169, 70])\n",
      "40\n",
      "40\n"
     ]
    },
    {
     "name": "stderr",
     "output_type": "stream",
     "text": [
      "/home/rosafiullin/anaconda3/lib/python3.9/site-packages/sklearn/cross_decomposition/_pls.py:230: FutureWarning: As of version 0.24, n_components(20) should be in [1, n_features].n_components=16 will be used instead. In version 1.1 (renaming of 0.26), an error will be raised.\n",
      "  warnings.warn(\n"
     ]
    },
    {
     "name": "stdout",
     "output_type": "stream",
     "text": [
      "torch.Size([10169, 70])\n",
      "40\n",
      "40\n"
     ]
    },
    {
     "name": "stderr",
     "output_type": "stream",
     "text": [
      "/home/rosafiullin/anaconda3/lib/python3.9/site-packages/sklearn/cross_decomposition/_pls.py:230: FutureWarning: As of version 0.24, n_components(20) should be in [1, n_features].n_components=16 will be used instead. In version 1.1 (renaming of 0.26), an error will be raised.\n",
      "  warnings.warn(\n"
     ]
    },
    {
     "name": "stdout",
     "output_type": "stream",
     "text": [
      "torch.Size([10169, 70])\n",
      "40\n",
      "40\n"
     ]
    },
    {
     "name": "stderr",
     "output_type": "stream",
     "text": [
      "/home/rosafiullin/anaconda3/lib/python3.9/site-packages/sklearn/cross_decomposition/_pls.py:230: FutureWarning: As of version 0.24, n_components(20) should be in [1, n_features].n_components=16 will be used instead. In version 1.1 (renaming of 0.26), an error will be raised.\n",
      "  warnings.warn(\n"
     ]
    },
    {
     "name": "stdout",
     "output_type": "stream",
     "text": [
      "torch.Size([10169, 70])\n",
      "40\n",
      "40\n"
     ]
    },
    {
     "name": "stderr",
     "output_type": "stream",
     "text": [
      "/home/rosafiullin/anaconda3/lib/python3.9/site-packages/sklearn/cross_decomposition/_pls.py:230: FutureWarning: As of version 0.24, n_components(20) should be in [1, n_features].n_components=16 will be used instead. In version 1.1 (renaming of 0.26), an error will be raised.\n",
      "  warnings.warn(\n"
     ]
    },
    {
     "name": "stdout",
     "output_type": "stream",
     "text": [
      "torch.Size([10169, 80])\n",
      "40\n",
      "40\n"
     ]
    },
    {
     "name": "stderr",
     "output_type": "stream",
     "text": [
      "/home/rosafiullin/anaconda3/lib/python3.9/site-packages/sklearn/cross_decomposition/_pls.py:230: FutureWarning: As of version 0.24, n_components(20) should be in [1, n_features].n_components=16 will be used instead. In version 1.1 (renaming of 0.26), an error will be raised.\n",
      "  warnings.warn(\n"
     ]
    },
    {
     "name": "stdout",
     "output_type": "stream",
     "text": [
      "torch.Size([10169, 80])\n",
      "40\n",
      "40\n"
     ]
    },
    {
     "name": "stderr",
     "output_type": "stream",
     "text": [
      "/home/rosafiullin/anaconda3/lib/python3.9/site-packages/sklearn/cross_decomposition/_pls.py:230: FutureWarning: As of version 0.24, n_components(20) should be in [1, n_features].n_components=16 will be used instead. In version 1.1 (renaming of 0.26), an error will be raised.\n",
      "  warnings.warn(\n",
      " 62%|██████▏   | 8/13 [23:21<14:34, 174.84s/it]"
     ]
    },
    {
     "name": "stdout",
     "output_type": "stream",
     "text": [
      "80 [['NN', 0.7441240970009682], ['pls', 0.7440588220682575], ['NN', 0.7447620374828748], ['pls', 0.7446780840856315], ['NN', 0.7563958954516388], ['pls', 0.7565280970223746], ['NN', 0.754561101507628], ['pls', 0.7547659695264148], ['NN', 0.7460789166807033], ['pls', 0.7463370156799852]] [['NN', 0.10525736], ['pls', 0.10514436], ['NN', 0.10493662], ['pls', 0.10504507], ['NN', 0.10240484], ['pls', 0.1022545], ['NN', 0.104487844], ['pls', 0.10430423], ['NN', 0.10501796], ['pls', 0.105006725]]\n",
      "torch.Size([10168, 90])\n",
      "40\n",
      "40\n"
     ]
    },
    {
     "name": "stderr",
     "output_type": "stream",
     "text": [
      "/home/rosafiullin/anaconda3/lib/python3.9/site-packages/sklearn/cross_decomposition/_pls.py:230: FutureWarning: As of version 0.24, n_components(20) should be in [1, n_features].n_components=16 will be used instead. In version 1.1 (renaming of 0.26), an error will be raised.\n",
      "  warnings.warn(\n"
     ]
    },
    {
     "name": "stdout",
     "output_type": "stream",
     "text": [
      "torch.Size([10169, 90])\n",
      "40\n",
      "40\n"
     ]
    },
    {
     "name": "stderr",
     "output_type": "stream",
     "text": [
      "/home/rosafiullin/anaconda3/lib/python3.9/site-packages/sklearn/cross_decomposition/_pls.py:230: FutureWarning: As of version 0.24, n_components(20) should be in [1, n_features].n_components=16 will be used instead. In version 1.1 (renaming of 0.26), an error will be raised.\n",
      "  warnings.warn(\n"
     ]
    },
    {
     "name": "stdout",
     "output_type": "stream",
     "text": [
      "torch.Size([10169, 90])\n",
      "40\n",
      "40\n"
     ]
    },
    {
     "name": "stderr",
     "output_type": "stream",
     "text": [
      "/home/rosafiullin/anaconda3/lib/python3.9/site-packages/sklearn/cross_decomposition/_pls.py:230: FutureWarning: As of version 0.24, n_components(20) should be in [1, n_features].n_components=16 will be used instead. In version 1.1 (renaming of 0.26), an error will be raised.\n",
      "  warnings.warn(\n"
     ]
    },
    {
     "name": "stdout",
     "output_type": "stream",
     "text": [
      "torch.Size([10169, 90])\n",
      "40\n",
      "40\n"
     ]
    },
    {
     "name": "stderr",
     "output_type": "stream",
     "text": [
      "/home/rosafiullin/anaconda3/lib/python3.9/site-packages/sklearn/cross_decomposition/_pls.py:230: FutureWarning: As of version 0.24, n_components(20) should be in [1, n_features].n_components=16 will be used instead. In version 1.1 (renaming of 0.26), an error will be raised.\n",
      "  warnings.warn(\n"
     ]
    },
    {
     "name": "stdout",
     "output_type": "stream",
     "text": [
      "torch.Size([10169, 90])\n",
      "40\n",
      "40\n"
     ]
    },
    {
     "name": "stderr",
     "output_type": "stream",
     "text": [
      "/home/rosafiullin/anaconda3/lib/python3.9/site-packages/sklearn/cross_decomposition/_pls.py:230: FutureWarning: As of version 0.24, n_components(20) should be in [1, n_features].n_components=16 will be used instead. In version 1.1 (renaming of 0.26), an error will be raised.\n",
      "  warnings.warn(\n",
      " 69%|██████▉   | 9/13 [26:16<11:38, 174.69s/it]"
     ]
    },
    {
     "name": "stdout",
     "output_type": "stream",
     "text": [
      "90 [['NN', 0.7439655803768379], ['pls', 0.743824354152061], ['NN', 0.7439769296023461], ['pls', 0.7439962515007008], ['NN', 0.7571775284512771], ['pls', 0.7572885019881346], ['NN', 0.7546918866970533], ['pls', 0.7547876920980751], ['NN', 0.7449938227091054], ['pls', 0.7453080848178074]] [['NN', 0.1051746], ['pls', 0.10521806], ['NN', 0.10520909], ['pls', 0.10517588], ['NN', 0.10215207], ['pls', 0.10223593], ['NN', 0.10430433], ['pls', 0.104195476], ['NN', 0.105300665], ['pls', 0.105067216]]\n",
      "torch.Size([10168, 100])\n",
      "40\n",
      "40\n"
     ]
    },
    {
     "name": "stderr",
     "output_type": "stream",
     "text": [
      "/home/rosafiullin/anaconda3/lib/python3.9/site-packages/sklearn/cross_decomposition/_pls.py:230: FutureWarning: As of version 0.24, n_components(20) should be in [1, n_features].n_components=16 will be used instead. In version 1.1 (renaming of 0.26), an error will be raised.\n",
      "  warnings.warn(\n"
     ]
    },
    {
     "name": "stdout",
     "output_type": "stream",
     "text": [
      "torch.Size([10169, 100])\n",
      "40\n",
      "40\n"
     ]
    },
    {
     "name": "stderr",
     "output_type": "stream",
     "text": [
      "/home/rosafiullin/anaconda3/lib/python3.9/site-packages/sklearn/cross_decomposition/_pls.py:230: FutureWarning: As of version 0.24, n_components(20) should be in [1, n_features].n_components=16 will be used instead. In version 1.1 (renaming of 0.26), an error will be raised.\n",
      "  warnings.warn(\n"
     ]
    },
    {
     "name": "stdout",
     "output_type": "stream",
     "text": [
      "torch.Size([10169, 100])\n",
      "40\n",
      "40\n"
     ]
    },
    {
     "name": "stderr",
     "output_type": "stream",
     "text": [
      "/home/rosafiullin/anaconda3/lib/python3.9/site-packages/sklearn/cross_decomposition/_pls.py:230: FutureWarning: As of version 0.24, n_components(20) should be in [1, n_features].n_components=16 will be used instead. In version 1.1 (renaming of 0.26), an error will be raised.\n",
      "  warnings.warn(\n"
     ]
    },
    {
     "name": "stdout",
     "output_type": "stream",
     "text": [
      "torch.Size([10169, 100])\n",
      "40\n",
      "40\n"
     ]
    },
    {
     "name": "stderr",
     "output_type": "stream",
     "text": [
      "/home/rosafiullin/anaconda3/lib/python3.9/site-packages/sklearn/cross_decomposition/_pls.py:230: FutureWarning: As of version 0.24, n_components(20) should be in [1, n_features].n_components=16 will be used instead. In version 1.1 (renaming of 0.26), an error will be raised.\n",
      "  warnings.warn(\n"
     ]
    },
    {
     "name": "stdout",
     "output_type": "stream",
     "text": [
      "torch.Size([10169, 100])\n",
      "40\n",
      "40\n"
     ]
    },
    {
     "name": "stderr",
     "output_type": "stream",
     "text": [
      "/home/rosafiullin/anaconda3/lib/python3.9/site-packages/sklearn/cross_decomposition/_pls.py:230: FutureWarning: As of version 0.24, n_components(20) should be in [1, n_features].n_components=16 will be used instead. In version 1.1 (renaming of 0.26), an error will be raised.\n",
      "  warnings.warn(\n",
      " 77%|███████▋  | 10/13 [29:11<08:44, 174.91s/it]"
     ]
    },
    {
     "name": "stdout",
     "output_type": "stream",
     "text": [
      "100 [['NN', 0.7441513689983597], ['pls', 0.7441228866984839], ['NN', 0.7449767624879398], ['pls', 0.7450542494047329], ['NN', 0.7564820402480993], ['pls', 0.7566231873826084], ['NN', 0.7546937743575481], ['pls', 0.7551370727195764], ['NN', 0.7452078738856879], ['pls', 0.7461017312489304]] [['NN', 0.105289266], ['pls', 0.105118155], ['NN', 0.10524197], ['pls', 0.10500227], ['NN', 0.10232192], ['pls', 0.10224481], ['NN', 0.10471813], ['pls', 0.10426786], ['NN', 0.10518219], ['pls', 0.10483723]]\n",
      "torch.Size([10168, 120])\n",
      "40\n",
      "40\n"
     ]
    },
    {
     "name": "stderr",
     "output_type": "stream",
     "text": [
      "/home/rosafiullin/anaconda3/lib/python3.9/site-packages/sklearn/cross_decomposition/_pls.py:230: FutureWarning: As of version 0.24, n_components(20) should be in [1, n_features].n_components=16 will be used instead. In version 1.1 (renaming of 0.26), an error will be raised.\n",
      "  warnings.warn(\n"
     ]
    },
    {
     "name": "stdout",
     "output_type": "stream",
     "text": [
      "torch.Size([10169, 120])\n",
      "40\n",
      "40\n"
     ]
    },
    {
     "name": "stderr",
     "output_type": "stream",
     "text": [
      "/home/rosafiullin/anaconda3/lib/python3.9/site-packages/sklearn/cross_decomposition/_pls.py:230: FutureWarning: As of version 0.24, n_components(20) should be in [1, n_features].n_components=16 will be used instead. In version 1.1 (renaming of 0.26), an error will be raised.\n",
      "  warnings.warn(\n"
     ]
    },
    {
     "name": "stdout",
     "output_type": "stream",
     "text": [
      "torch.Size([10169, 120])\n",
      "40\n",
      "40\n"
     ]
    },
    {
     "name": "stderr",
     "output_type": "stream",
     "text": [
      "/home/rosafiullin/anaconda3/lib/python3.9/site-packages/sklearn/cross_decomposition/_pls.py:230: FutureWarning: As of version 0.24, n_components(20) should be in [1, n_features].n_components=16 will be used instead. In version 1.1 (renaming of 0.26), an error will be raised.\n",
      "  warnings.warn(\n"
     ]
    },
    {
     "name": "stdout",
     "output_type": "stream",
     "text": [
      "torch.Size([10169, 120])\n",
      "40\n",
      "40\n"
     ]
    },
    {
     "name": "stderr",
     "output_type": "stream",
     "text": [
      "/home/rosafiullin/anaconda3/lib/python3.9/site-packages/sklearn/cross_decomposition/_pls.py:230: FutureWarning: As of version 0.24, n_components(20) should be in [1, n_features].n_components=16 will be used instead. In version 1.1 (renaming of 0.26), an error will be raised.\n",
      "  warnings.warn(\n"
     ]
    },
    {
     "name": "stdout",
     "output_type": "stream",
     "text": [
      "torch.Size([10169, 120])\n",
      "40\n",
      "40\n"
     ]
    },
    {
     "name": "stderr",
     "output_type": "stream",
     "text": [
      "/home/rosafiullin/anaconda3/lib/python3.9/site-packages/sklearn/cross_decomposition/_pls.py:230: FutureWarning: As of version 0.24, n_components(20) should be in [1, n_features].n_components=16 will be used instead. In version 1.1 (renaming of 0.26), an error will be raised.\n",
      "  warnings.warn(\n",
      " 85%|████████▍ | 11/13 [32:06<05:49, 174.76s/it]"
     ]
    },
    {
     "name": "stdout",
     "output_type": "stream",
     "text": [
      "120 [['NN', 0.7438258908025225], ['pls', 0.7438133453634996], ['NN', 0.7456570899214238], ['pls', 0.7456832026842524], ['NN', 0.7561583904966037], ['pls', 0.7560379435996558], ['NN', 0.7544003399535674], ['pls', 0.754806526378647], ['NN', 0.7456593186443148], ['pls', 0.7457796576226974]] [['NN', 0.10516552], ['pls', 0.10514664], ['NN', 0.10498842], ['pls', 0.105049424], ['NN', 0.10251617], ['pls', 0.10234964], ['NN', 0.104446806], ['pls', 0.10429698], ['NN', 0.105186746], ['pls', 0.10501189]]\n",
      "torch.Size([10168, 150])\n",
      "40\n",
      "40\n"
     ]
    },
    {
     "name": "stderr",
     "output_type": "stream",
     "text": [
      "/home/rosafiullin/anaconda3/lib/python3.9/site-packages/sklearn/cross_decomposition/_pls.py:230: FutureWarning: As of version 0.24, n_components(20) should be in [1, n_features].n_components=16 will be used instead. In version 1.1 (renaming of 0.26), an error will be raised.\n",
      "  warnings.warn(\n"
     ]
    },
    {
     "name": "stdout",
     "output_type": "stream",
     "text": [
      "torch.Size([10169, 150])\n",
      "40\n",
      "40\n"
     ]
    },
    {
     "name": "stderr",
     "output_type": "stream",
     "text": [
      "/home/rosafiullin/anaconda3/lib/python3.9/site-packages/sklearn/cross_decomposition/_pls.py:230: FutureWarning: As of version 0.24, n_components(20) should be in [1, n_features].n_components=16 will be used instead. In version 1.1 (renaming of 0.26), an error will be raised.\n",
      "  warnings.warn(\n"
     ]
    },
    {
     "name": "stdout",
     "output_type": "stream",
     "text": [
      "torch.Size([10169, 150])\n",
      "40\n",
      "40\n"
     ]
    },
    {
     "name": "stderr",
     "output_type": "stream",
     "text": [
      "/home/rosafiullin/anaconda3/lib/python3.9/site-packages/sklearn/cross_decomposition/_pls.py:230: FutureWarning: As of version 0.24, n_components(20) should be in [1, n_features].n_components=16 will be used instead. In version 1.1 (renaming of 0.26), an error will be raised.\n",
      "  warnings.warn(\n"
     ]
    },
    {
     "name": "stdout",
     "output_type": "stream",
     "text": [
      "torch.Size([10169, 150])\n",
      "40\n",
      "40\n"
     ]
    },
    {
     "name": "stderr",
     "output_type": "stream",
     "text": [
      "/home/rosafiullin/anaconda3/lib/python3.9/site-packages/sklearn/cross_decomposition/_pls.py:230: FutureWarning: As of version 0.24, n_components(20) should be in [1, n_features].n_components=16 will be used instead. In version 1.1 (renaming of 0.26), an error will be raised.\n",
      "  warnings.warn(\n"
     ]
    },
    {
     "name": "stdout",
     "output_type": "stream",
     "text": [
      "torch.Size([10169, 150])\n",
      "40\n",
      "40\n"
     ]
    },
    {
     "name": "stderr",
     "output_type": "stream",
     "text": [
      "/home/rosafiullin/anaconda3/lib/python3.9/site-packages/sklearn/cross_decomposition/_pls.py:230: FutureWarning: As of version 0.24, n_components(20) should be in [1, n_features].n_components=16 will be used instead. In version 1.1 (renaming of 0.26), an error will be raised.\n",
      "  warnings.warn(\n",
      " 92%|█████████▏| 12/13 [35:04<02:55, 175.80s/it]"
     ]
    },
    {
     "name": "stdout",
     "output_type": "stream",
     "text": [
      "150 [['NN', 0.7431253067440641], ['pls', 0.7431093117041774], ['NN', 0.745119712992259], ['pls', 0.7451895902486813], ['NN', 0.7567854489250333], ['pls', 0.756833097366416], ['NN', 0.7546596831096379], ['pls', 0.7549864031432977], ['NN', 0.7446791653560088], ['pls', 0.7450339097681135]] [['NN', 0.10519085], ['pls', 0.105095364], ['NN', 0.105132766], ['pls', 0.10495343], ['NN', 0.1023501], ['pls', 0.102235064], ['NN', 0.104251266], ['pls', 0.10421081], ['NN', 0.105306104], ['pls', 0.105029255]]\n",
      "torch.Size([10168, 200])\n",
      "40\n",
      "40\n"
     ]
    },
    {
     "name": "stderr",
     "output_type": "stream",
     "text": [
      "/home/rosafiullin/anaconda3/lib/python3.9/site-packages/sklearn/cross_decomposition/_pls.py:230: FutureWarning: As of version 0.24, n_components(20) should be in [1, n_features].n_components=16 will be used instead. In version 1.1 (renaming of 0.26), an error will be raised.\n",
      "  warnings.warn(\n"
     ]
    },
    {
     "name": "stdout",
     "output_type": "stream",
     "text": [
      "torch.Size([10169, 200])\n",
      "40\n",
      "40\n"
     ]
    },
    {
     "name": "stderr",
     "output_type": "stream",
     "text": [
      "/home/rosafiullin/anaconda3/lib/python3.9/site-packages/sklearn/cross_decomposition/_pls.py:230: FutureWarning: As of version 0.24, n_components(20) should be in [1, n_features].n_components=16 will be used instead. In version 1.1 (renaming of 0.26), an error will be raised.\n",
      "  warnings.warn(\n"
     ]
    },
    {
     "name": "stdout",
     "output_type": "stream",
     "text": [
      "torch.Size([10169, 200])\n",
      "40\n",
      "40\n"
     ]
    },
    {
     "name": "stderr",
     "output_type": "stream",
     "text": [
      "/home/rosafiullin/anaconda3/lib/python3.9/site-packages/sklearn/cross_decomposition/_pls.py:230: FutureWarning: As of version 0.24, n_components(20) should be in [1, n_features].n_components=16 will be used instead. In version 1.1 (renaming of 0.26), an error will be raised.\n",
      "  warnings.warn(\n"
     ]
    },
    {
     "name": "stdout",
     "output_type": "stream",
     "text": [
      "torch.Size([10169, 200])\n",
      "40\n",
      "40\n"
     ]
    },
    {
     "name": "stderr",
     "output_type": "stream",
     "text": [
      "/home/rosafiullin/anaconda3/lib/python3.9/site-packages/sklearn/cross_decomposition/_pls.py:230: FutureWarning: As of version 0.24, n_components(20) should be in [1, n_features].n_components=16 will be used instead. In version 1.1 (renaming of 0.26), an error will be raised.\n",
      "  warnings.warn(\n"
     ]
    },
    {
     "name": "stdout",
     "output_type": "stream",
     "text": [
      "torch.Size([10169, 200])\n",
      "40\n",
      "40\n"
     ]
    },
    {
     "name": "stderr",
     "output_type": "stream",
     "text": [
      "/home/rosafiullin/anaconda3/lib/python3.9/site-packages/sklearn/cross_decomposition/_pls.py:230: FutureWarning: As of version 0.24, n_components(20) should be in [1, n_features].n_components=16 will be used instead. In version 1.1 (renaming of 0.26), an error will be raised.\n",
      "  warnings.warn(\n",
      "100%|██████████| 13/13 [38:00<00:00, 175.44s/it]"
     ]
    },
    {
     "name": "stdout",
     "output_type": "stream",
     "text": [
      "200 [['NN', 0.7444970068339098], ['pls', 0.7444791212103737], ['NN', 0.7450293486786338], ['pls', 0.7450509632540646], ['NN', 0.7567254783648054], ['pls', 0.7570128104235716], ['NN', 0.7538040828755461], ['pls', 0.7542557827718749], ['NN', 0.7455467793274206], ['pls', 0.7458952942510608]] [['NN', 0.10515196], ['pls', 0.10511889], ['NN', 0.105089165], ['pls', 0.10505523], ['NN', 0.10237581], ['pls', 0.10218613], ['NN', 0.10454704], ['pls', 0.104338504], ['NN', 0.10478713], ['pls', 0.10487775]]\n"
     ]
    },
    {
     "name": "stderr",
     "output_type": "stream",
     "text": [
      "\n"
     ]
    }
   ],
   "source": [
    "\n",
    "\n",
    "qpfs_2d_feat = [ 57,  17,   0,  97,  41,  19, 149, 138, 157,  59, 118,  72, 156, 141,\n",
    "         73, 133,  40, 150, 134, 171, 139,  58, 140, 119, 155,  55,  16,   6,\n",
    "        187,  39, 148, 117, 170,  60, 137,  25,  20, 135,  56,  74,  98, 125,\n",
    "        172,  75,  42,  43, 152,  18, 136, 158,  15,   1,  96,  10,  95,  52,\n",
    "        147,  79, 151,  63, 109, 186, 120,  48,  26,  99,   7, 126, 177,   2,\n",
    "         47,  34, 130,  76,  78, 142,  87,  38, 110,  77,  33,  44,  35,  51,\n",
    "         11,  62,  36, 127, 132,  83,  88, 116, 111,  32,  54,  80,  68,  37,\n",
    "        178,   4, 191, 185,  27, 192, 146, 129, 199,  45, 161, 176, 100,  14,\n",
    "          9,  23, 101,  31,  46,   3, 115,  67, 102, 162,  85,  70,  94, 197,\n",
    "        179,  28,  49, 193,  66,  71, 175, 182, 169, 166,   5,  29,  22, 160,\n",
    "        167, 103, 124,  53,  61, 198, 108,  30,  84, 173]\n",
    "\n",
    "\n",
    "\n",
    "exp_2d_res = cv_2d()\n",
    "      "
   ]
  },
  {
   "cell_type": "code",
   "execution_count": null,
   "id": "64f3fa51",
   "metadata": {},
   "outputs": [],
   "source": []
  },
  {
   "cell_type": "code",
   "execution_count": null,
   "id": "c48e4ced",
   "metadata": {},
   "outputs": [],
   "source": []
  },
  {
   "cell_type": "code",
   "execution_count": 283,
   "id": "0b67585c",
   "metadata": {},
   "outputs": [],
   "source": [
    "\n",
    "index_shuf = np.array(range(len(X_tensor)))\n",
    "\n",
    "cv_ind = []\n",
    "for i in range(5):\n",
    "    random.shuffle(index_shuf)\n",
    "    cv_ind.append(index_shuf.copy())"
   ]
  },
  {
   "cell_type": "code",
   "execution_count": 285,
   "id": "e2cfe63a",
   "metadata": {},
   "outputs": [],
   "source": [
    "# X_tensor_old[cv_ind[1], :, :] - X_tensor_old[cv_ind[4], :, :]"
   ]
  },
  {
   "cell_type": "code",
   "execution_count": null,
   "id": "8d5e7961",
   "metadata": {},
   "outputs": [],
   "source": []
  },
  {
   "cell_type": "code",
   "execution_count": 288,
   "id": "aa76dcb5",
   "metadata": {
    "scrolled": true
   },
   "outputs": [
    {
     "name": "stderr",
     "output_type": "stream",
     "text": [
      "  0%|          | 0/13 [00:00<?, ?it/s]"
     ]
    },
    {
     "name": "stdout",
     "output_type": "stream",
     "text": [
      "10 0.8469716576422524 0.05684446307121684\n",
      "10 0.8506146053155769 0.05542579763271879\n",
      "10 0.8511001917905794 0.05458492891171582\n",
      "10 0.8431334587036702 0.05317441280573903\n"
     ]
    },
    {
     "name": "stderr",
     "output_type": "stream",
     "text": [
      "  8%|▊         | 1/13 [02:23<28:41, 143.49s/it]"
     ]
    },
    {
     "name": "stdout",
     "output_type": "stream",
     "text": [
      "10 0.8451502410765412 0.0540948733934586\n",
      "20 0.8469716576422524 0.062338283049679165\n",
      "20 0.8506146053155769 0.05436283133780771\n",
      "20 0.8511001917905794 0.054410097022156254\n",
      "20 0.8431334587036702 0.05479628302814537\n"
     ]
    },
    {
     "name": "stderr",
     "output_type": "stream",
     "text": [
      " 15%|█▌        | 2/13 [04:47<26:23, 143.94s/it]"
     ]
    },
    {
     "name": "stdout",
     "output_type": "stream",
     "text": [
      "20 0.8451502410765412 0.053626940316082145\n",
      "30 0.8469716576422524 0.0533447799807028\n",
      "30 0.8506146053155769 0.05360892271870603\n",
      "30 0.8511001917905794 0.05335395123517195\n",
      "30 0.8431334587036702 0.05523671393047425\n"
     ]
    },
    {
     "name": "stderr",
     "output_type": "stream",
     "text": [
      " 23%|██▎       | 3/13 [07:09<23:49, 142.93s/it]"
     ]
    },
    {
     "name": "stdout",
     "output_type": "stream",
     "text": [
      "30 0.8451502410765412 0.05393047111191946\n",
      "40 0.8469716576422524 0.05604503204199155\n",
      "40 0.8506146053155769 0.053654175072638054\n",
      "40 0.8511001917905794 0.05390420859752587\n",
      "40 0.8431334587036702 0.053843896480977094\n"
     ]
    },
    {
     "name": "stderr",
     "output_type": "stream",
     "text": [
      " 31%|███       | 4/13 [09:34<21:34, 143.79s/it]"
     ]
    },
    {
     "name": "stdout",
     "output_type": "stream",
     "text": [
      "40 0.8451502410765412 0.05594843086359522\n",
      "50 0.8469716576422524 0.053829597036194526\n",
      "50 0.8506146053155769 0.054384846033046\n",
      "50 0.8511001917905794 0.05728508265214955\n",
      "50 0.8431334587036702 0.06926298826372053\n"
     ]
    },
    {
     "name": "stderr",
     "output_type": "stream",
     "text": [
      " 38%|███▊      | 5/13 [11:56<19:04, 143.04s/it]"
     ]
    },
    {
     "name": "stdout",
     "output_type": "stream",
     "text": [
      "50 0.8451502410765412 0.0545899903764682\n",
      "60 0.8469716576422524 0.05535652376708077\n",
      "60 0.8506146053155769 0.056621190904374896\n",
      "60 0.8511001917905794 0.05471896981185276\n",
      "60 0.8431334587036702 0.05347862966780868\n"
     ]
    },
    {
     "name": "stderr",
     "output_type": "stream",
     "text": [
      " 46%|████▌     | 6/13 [14:18<16:39, 142.74s/it]"
     ]
    },
    {
     "name": "stdout",
     "output_type": "stream",
     "text": [
      "60 0.8451502410765412 0.05417732408754381\n",
      "70 0.8469716576422524 0.06250058080739969\n",
      "70 0.8506146053155769 0.05458940010751874\n",
      "70 0.8511001917905794 0.053721550680868396\n",
      "70 0.8431334587036702 0.05584199111477909\n"
     ]
    },
    {
     "name": "stderr",
     "output_type": "stream",
     "text": [
      " 54%|█████▍    | 7/13 [16:40<14:14, 142.42s/it]"
     ]
    },
    {
     "name": "stdout",
     "output_type": "stream",
     "text": [
      "70 0.8451502410765412 0.05422914341702218\n",
      "80 0.8469716576422524 0.05439863915710445\n",
      "80 0.8506146053155769 0.05574185420808914\n",
      "80 0.8511001917905794 0.058262867603610276\n",
      "80 0.8431334587036702 0.053498341152910536\n"
     ]
    },
    {
     "name": "stderr",
     "output_type": "stream",
     "text": [
      " 62%|██████▏   | 8/13 [19:02<11:51, 142.33s/it]"
     ]
    },
    {
     "name": "stdout",
     "output_type": "stream",
     "text": [
      "80 0.8451502410765412 0.05422525947237557\n",
      "90 0.8469716576422524 0.05368177908343856\n",
      "90 0.8506146053155769 0.05444601694090943\n",
      "90 0.8511001917905794 0.060837203637937445\n",
      "90 0.8431334587036702 0.05484870153072661\n"
     ]
    },
    {
     "name": "stderr",
     "output_type": "stream",
     "text": [
      " 69%|██████▉   | 9/13 [21:24<09:28, 142.16s/it]"
     ]
    },
    {
     "name": "stdout",
     "output_type": "stream",
     "text": [
      "90 0.8451502410765412 0.07119594384532248\n",
      "100 0.8469716576422524 0.05425605826941063\n",
      "100 0.8506146053155769 0.05583228699181051\n",
      "100 0.8511001917905794 0.05652910920983155\n",
      "100 0.8431334587036702 0.05327825973402597\n"
     ]
    },
    {
     "name": "stderr",
     "output_type": "stream",
     "text": [
      " 77%|███████▋  | 10/13 [23:49<07:09, 143.09s/it]"
     ]
    },
    {
     "name": "stdout",
     "output_type": "stream",
     "text": [
      "100 0.8451502410765412 0.05365557421840696\n",
      "120 0.8469716576422524 0.056588679446054724\n",
      "120 0.8506146053155769 0.0537247426155975\n",
      "120 0.8511001917905794 0.05461317671178508\n",
      "120 0.8431334587036702 0.05336401255420581\n"
     ]
    },
    {
     "name": "stderr",
     "output_type": "stream",
     "text": [
      " 85%|████████▍ | 11/13 [26:11<04:45, 142.70s/it]"
     ]
    },
    {
     "name": "stdout",
     "output_type": "stream",
     "text": [
      "120 0.8451502410765412 0.055909267255517495\n",
      "150 0.8469716576422524 0.05395795748770667\n",
      "150 0.8506146053155769 0.06409272345347075\n",
      "150 0.8511001917905794 0.055353511113768815\n",
      "150 0.8431334587036702 0.060126066665685145\n"
     ]
    },
    {
     "name": "stderr",
     "output_type": "stream",
     "text": [
      " 92%|█████████▏| 12/13 [28:34<02:22, 142.77s/it]"
     ]
    },
    {
     "name": "stdout",
     "output_type": "stream",
     "text": [
      "150 0.8451502410765412 0.05679629347142236\n",
      "0 0.8469716576422524 0.05380080889859412\n",
      "0 0.8506146053155769 0.05406988661485846\n",
      "0 0.8511001917905794 0.05551911906780227\n",
      "0 0.8431334587036702 0.0538866957489619\n"
     ]
    },
    {
     "name": "stderr",
     "output_type": "stream",
     "text": [
      "100%|██████████| 13/13 [30:56<00:00, 142.82s/it]"
     ]
    },
    {
     "name": "stdout",
     "output_type": "stream",
     "text": [
      "0 0.8451502410765412 0.0543367067633122\n"
     ]
    },
    {
     "name": "stderr",
     "output_type": "stream",
     "text": [
      "\n"
     ]
    }
   ],
   "source": [
    "\n",
    "    \n",
    "\n",
    "exp_res = main()\n"
   ]
  },
  {
   "cell_type": "code",
   "execution_count": null,
   "id": "9d618179",
   "metadata": {},
   "outputs": [],
   "source": []
  },
  {
   "cell_type": "code",
   "execution_count": 289,
   "id": "c1a8fd3d",
   "metadata": {},
   "outputs": [
    {
     "data": {
      "image/png": "[encoded data removed]",
      "text/plain": [
       "<Figure size 1000x600 with 2 Axes>"
      ]
     },
     "metadata": {},
     "output_type": "display_data"
    }
   ],
   "source": [
    "\n",
    "# Prepare data for boxplots\n",
    "mse_data = [res[2] for res in exp_res]\n",
    "corr_data = [res[1] for res in exp_res]\n",
    "\n",
    "fig, axs = plt.subplots(1, 2, figsize=(10, 6))\n",
    "axs = axs.flatten()\n",
    "\n",
    "# Plot boxplots for MSE\n",
    "axs[0].boxplot(mse_data)\n",
    "axs[0].set_title('Multimodel: MLP | Metric: MSE')\n",
    "axs[0].set_xticklabels(np.array(np.array([10, 20, 30, 40, 50, 60, 70, 80, 90, 100, 120, 150, 200])/2).astype(int))\n",
    "axs[0].set_xlabel('% used features')\n",
    "axs[0].set_ylabel('Metric value')\n",
    "\n",
    "# Plot boxplots for correlation\n",
    "axs[1].boxplot(corr_data)\n",
    "axs[1].set_title('Multimodel: MLP | Metric: $R^2$')\n",
    "# axs[1].set_ylim([0.84954, 0.84955])\n",
    "axs[1].set_xticklabels(np.array(np.array([10, 20, 30, 40, 50, 60, 70, 80, 90, 100, 120, 150, 200])/2).astype(int))\n",
    "axs[1].set_xlabel('% used features')\n",
    "axs[1].set_ylabel('Metric value')\n",
    "fig.tight_layout()\n",
    "plt.show()"
   ]
  },
  {
   "cell_type": "code",
   "execution_count": null,
   "id": "cec3116f",
   "metadata": {},
   "outputs": [],
   "source": []
  },
  {
   "cell_type": "code",
   "execution_count": null,
   "id": "96c3b41b",
   "metadata": {},
   "outputs": [],
   "source": []
  },
  {
   "cell_type": "code",
   "execution_count": null,
   "id": "47e79386",
   "metadata": {},
   "outputs": [],
   "source": []
  },
  {
   "cell_type": "code",
   "execution_count": 223,
   "id": "8b974578",
   "metadata": {
    "scrolled": true
   },
   "outputs": [
    {
     "name": "stderr",
     "output_type": "stream",
     "text": [
      "/tmp/ipykernel_25034/1602525953.py:4: VisibleDeprecationWarning: Creating an ndarray from ragged nested sequences (which is a list-or-tuple of lists-or-tuples-or ndarrays with different lengths or shapes) is deprecated. If you meant to do this, you must specify 'dtype=object' when creating the ndarray.\n",
      "  corr_row = np.array(np.array(exp_2d_res)[i][1])\n",
      "/tmp/ipykernel_25034/1602525953.py:8: VisibleDeprecationWarning: Creating an ndarray from ragged nested sequences (which is a list-or-tuple of lists-or-tuples-or ndarrays with different lengths or shapes) is deprecated. If you meant to do this, you must specify 'dtype=object' when creating the ndarray.\n",
      "  mse_row = np.array(np.array(exp_2d_res)[i][2])\n",
      "/tmp/ipykernel_25034/1602525953.py:13: VisibleDeprecationWarning: Creating an ndarray from ragged nested sequences (which is a list-or-tuple of lists-or-tuples-or ndarrays with different lengths or shapes) is deprecated. If you meant to do this, you must specify 'dtype=object' when creating the ndarray.\n",
      "  print(np.array(exp_2d_res)[i][0], 'pls','MSE', np.mean(mse_vals_pls), np.std(mse_vals_pls))\n",
      "/tmp/ipykernel_25034/1602525953.py:14: VisibleDeprecationWarning: Creating an ndarray from ragged nested sequences (which is a list-or-tuple of lists-or-tuples-or ndarrays with different lengths or shapes) is deprecated. If you meant to do this, you must specify 'dtype=object' when creating the ndarray.\n",
      "  print(np.array(exp_2d_res)[i][0], 'NN','MSE', np.mean(mse_vals_nn), np.std(mse_vals_nn))\n",
      "/tmp/ipykernel_25034/1602525953.py:16: VisibleDeprecationWarning: Creating an ndarray from ragged nested sequences (which is a list-or-tuple of lists-or-tuples-or ndarrays with different lengths or shapes) is deprecated. If you meant to do this, you must specify 'dtype=object' when creating the ndarray.\n",
      "  print(np.array(exp_2d_res)[i][0], 'pls','corr', np.mean(corr_vals_pls), np.std(corr_vals_pls))\n",
      "/tmp/ipykernel_25034/1602525953.py:17: VisibleDeprecationWarning: Creating an ndarray from ragged nested sequences (which is a list-or-tuple of lists-or-tuples-or ndarrays with different lengths or shapes) is deprecated. If you meant to do this, you must specify 'dtype=object' when creating the ndarray.\n",
      "  print(np.array(exp_2d_res)[i][0], 'NN','corr', np.mean(corr_vals_nn), np.std(corr_vals_nn))\n",
      "/tmp/ipykernel_25034/1602525953.py:33: VisibleDeprecationWarning: Creating an ndarray from ragged nested sequences (which is a list-or-tuple of lists-or-tuples-or ndarrays with different lengths or shapes) is deprecated. If you meant to do this, you must specify 'dtype=object' when creating the ndarray.\n",
      "  pls_mse_data = [np.array(np.array(res)[2])[np.array(np.array(res)[2])[:,0]=='pls'][:,1].astype(float) for res in exp_2d_res]\n",
      "/tmp/ipykernel_25034/1602525953.py:35: VisibleDeprecationWarning: Creating an ndarray from ragged nested sequences (which is a list-or-tuple of lists-or-tuples-or ndarrays with different lengths or shapes) is deprecated. If you meant to do this, you must specify 'dtype=object' when creating the ndarray.\n",
      "  nn_mse_data = [np.array(np.array(res)[2])[np.array(np.array(res)[2])[:,0]=='NN'][:,1].astype(float) for res in exp_2d_res]\n",
      "/tmp/ipykernel_25034/1602525953.py:36: VisibleDeprecationWarning: Creating an ndarray from ragged nested sequences (which is a list-or-tuple of lists-or-tuples-or ndarrays with different lengths or shapes) is deprecated. If you meant to do this, you must specify 'dtype=object' when creating the ndarray.\n",
      "  pls_corr_data = [np.array(np.array(res)[1])[np.array(np.array(res)[2])[:,0]=='pls'][:,1].astype(float) for res in exp_2d_res]\n",
      "/tmp/ipykernel_25034/1602525953.py:37: VisibleDeprecationWarning: Creating an ndarray from ragged nested sequences (which is a list-or-tuple of lists-or-tuples-or ndarrays with different lengths or shapes) is deprecated. If you meant to do this, you must specify 'dtype=object' when creating the ndarray.\n",
      "  nn_corr_data = [np.array(np.array(res)[1])[np.array(np.array(res)[2])[:,0]=='NN'][:,1].astype(float) for res in exp_2d_res]\n"
     ]
    },
    {
     "name": "stdout",
     "output_type": "stream",
     "text": [
      "10 pls MSE 0.10430610119999999 0.0011019060147243786\n",
      "10 NN MSE 0.10437583080000001 0.0010611476974194316\n",
      "10 pls corr 0.7492391854860175 0.005565950733184491\n",
      "10 NN corr 0.7492442465875545 0.005618401582945051\n",
      "20 pls MSE 0.10436467680000001 0.0011202402271615482\n",
      "20 NN MSE 0.1044425022 0.001118098694664903\n",
      "20 pls corr 0.748759941722491 0.005767586861543091\n",
      "20 NN corr 0.7487415845319354 0.005777328673763296\n",
      "30 pls MSE 0.10430586 0.001141589076892383\n",
      "30 NN MSE 0.10452476 0.0010564093759523315\n",
      "30 pls corr 0.74969323773617 0.005443196984965246\n",
      "30 NN corr 0.7494620002082782 0.005499535980077503\n",
      "40 pls MSE 0.10435964599999999 0.0011157579809501696\n",
      "40 NN MSE 0.1043687168 0.001060246129376079\n",
      "40 pls corr 0.749160912651371 0.005299378848529111\n",
      "40 NN corr 0.7492098224470136 0.0052587247778364534\n",
      "50 pls MSE 0.1043375388 0.0010736298222524178\n",
      "50 NN MSE 0.1044731678 0.001090475110285128\n",
      "50 pls corr 0.7492821626796906 0.005296015321467045\n",
      "50 NN corr 0.7491364504377863 0.005228731585573395\n",
      "60 pls MSE 0.10432997339999998 0.0010963173686500802\n",
      "60 NN MSE 0.1044877252 0.0010820280288477554\n",
      "60 pls corr 0.749247468135381 0.005475073909789669\n",
      "60 NN corr 0.7490584268210825 0.005476361359281403\n",
      "70 pls MSE 0.10431536459999999 0.0011347789004847795\n",
      "70 NN MSE 0.10438973700000001 0.001086610178866368\n",
      "70 pls corr 0.7492819044030832 0.005528442899907348\n",
      "70 NN corr 0.7492726749052745 0.005433121469431366\n",
      "80 pls MSE 0.104350977 0.0010898282626524251\n",
      "80 NN MSE 0.10442092480000001 0.0010383730074747502\n",
      "80 pls corr 0.7492735976765327 0.005286398640425526\n",
      "80 NN corr 0.7491844096247626 0.0052100397133224875\n",
      "90 pls MSE 0.1043785124 0.0011348224156548195\n",
      "90 NN MSE 0.104428151 0.001193667363223106\n",
      "90 pls corr 0.7490409769113558 0.005790393703249214\n",
      "90 NN corr 0.748961149567324 0.005760001260605577\n",
      "100 pls MSE 0.104294065 0.0010654425957694748\n",
      "100 NN MSE 0.1045506952 0.0011329260048688816\n",
      "100 pls corr 0.7494078254908665 0.0053422875802417984\n",
      "100 NN corr 0.749102363995527 0.005337105655808468\n",
      "120 pls MSE 0.1043709148 0.0010548925726519053\n",
      "120 NN MSE 0.1044607324 0.0010083444236770667\n",
      "120 pls corr 0.7492241351297505 0.00512387259199623\n",
      "120 NN corr 0.7491402059636865 0.0050875248059500805\n",
      "150 pls MSE 0.10430478459999999 0.0010828839818402703\n",
      "150 NN MSE 0.1044462172 0.0011132785686384884\n",
      "150 pls corr 0.7490304624461371 0.005694543000832763\n",
      "150 NN corr 0.7488738634254005 0.005671048153966998\n",
      "200 pls MSE 0.1043153008 0.0010994095333416766\n",
      "200 NN MSE 0.10439022099999999 0.00103041250470091\n",
      "200 pls corr 0.7493387943821891 0.005233104419003246\n",
      "200 NN corr 0.7491205392160631 0.005111894602012011\n"
     ]
    },
    {
     "data": {
      "image/png": "[encoded data removed]",
      "text/plain": [
       "<Figure size 1000x600 with 4 Axes>"
      ]
     },
     "metadata": {},
     "output_type": "display_data"
    }
   ],
   "source": [
    "pls_mse_mean, pls_mse_std, pls_corr_mean, pls_corr_std, nn_mse_mean, nn_mse_std, nn_corr_mean, nn_corr_std = [],[],[],[],[],[],[],[]\n",
    "for i in range(len(exp_2d_res)):\n",
    "\n",
    "    corr_row = np.array(np.array(exp_2d_res)[i][1])\n",
    "    corr_vals_nn = corr_row[corr_row[:,0]=='NN'][:,1].astype(float)\n",
    "    corr_vals_pls = corr_row[corr_row[:,0]=='pls'][:,1].astype(float)\n",
    "    \n",
    "    mse_row = np.array(np.array(exp_2d_res)[i][2])\n",
    "    mse_vals_nn = mse_row[mse_row[:,0]=='NN'][:,1].astype(float)\n",
    "    mse_vals_pls = mse_row[mse_row[:,0]=='pls'][:,1].astype(float)\n",
    "    \n",
    "    \n",
    "    print(np.array(exp_2d_res)[i][0], 'pls','MSE', np.mean(mse_vals_pls), np.std(mse_vals_pls))\n",
    "    print(np.array(exp_2d_res)[i][0], 'NN','MSE', np.mean(mse_vals_nn), np.std(mse_vals_nn))\n",
    "    \n",
    "    print(np.array(exp_2d_res)[i][0], 'pls','corr', np.mean(corr_vals_pls), np.std(corr_vals_pls))\n",
    "    print(np.array(exp_2d_res)[i][0], 'NN','corr', np.mean(corr_vals_nn), np.std(corr_vals_nn))\n",
    "    \n",
    "    \n",
    "        # plot\n",
    "        \n",
    "    pls_mse_mean.append(np.mean(mse_vals_pls))\n",
    "    pls_mse_std.append(np.std(mse_vals_pls))\n",
    "    pls_corr_mean.append(np.mean(corr_vals_pls))\n",
    "    pls_corr_std.append(np.std(corr_vals_pls))\n",
    "    nn_mse_mean.append(np.mean(mse_vals_nn))\n",
    "    nn_mse_std.append(np.std(mse_vals_nn))\n",
    "    nn_corr_mean.append(np.mean(corr_vals_nn))\n",
    "    nn_corr_std.append(np.std(corr_vals_nn))\n",
    "\n",
    "    \n",
    "# Prepare data for boxplots\n",
    "pls_mse_data = [np.array(np.array(res)[2])[np.array(np.array(res)[2])[:,0]=='pls'][:,1].astype(float) for res in exp_2d_res]\n",
    "\n",
    "nn_mse_data = [np.array(np.array(res)[2])[np.array(np.array(res)[2])[:,0]=='NN'][:,1].astype(float) for res in exp_2d_res]\n",
    "pls_corr_data = [np.array(np.array(res)[1])[np.array(np.array(res)[2])[:,0]=='pls'][:,1].astype(float) for res in exp_2d_res]\n",
    "nn_corr_data = [np.array(np.array(res)[1])[np.array(np.array(res)[2])[:,0]=='NN'][:,1].astype(float) for res in exp_2d_res]\n",
    "\n",
    "\n",
    "fig, axs = plt.subplots(2, 2, figsize=(10, 6))\n",
    "axs = axs.flatten()\n",
    "\n",
    "# Plot boxplots for PLS MSE\n",
    "axs[0].boxplot(pls_mse_data)\n",
    "axs[0].set_title('Multimodel: PLS | Metric: MSE')\n",
    "axs[0].set_xticklabels(np.array(np.array([10, 20, 30, 40, 50, 60, 70, 80, 90, 100, 120, 150, 200])/2).astype(int))\n",
    "axs[0].set_xlabel('% used features')\n",
    "axs[0].set_ylabel('Metric value')\n",
    "\n",
    "# Plot boxplots for NN MSE\n",
    "axs[1].boxplot(nn_mse_data)\n",
    "axs[1].set_title('Multimodel: MLP | Metric: MSE')\n",
    "axs[1].set_xticklabels(np.array(np.array([10, 20, 30, 40, 50, 60, 70, 80, 90, 100, 120, 150, 200])/2).astype(int))\n",
    "axs[1].set_xlabel('% used features')\n",
    "axs[1].set_ylabel('Metric value')\n",
    "\n",
    "# Plot boxplots for PLS correlation\n",
    "axs[2].boxplot(pls_corr_data)\n",
    "axs[2].set_title('Multimodel: PLS | Metric: $R^2$')\n",
    "axs[2].set_xticklabels(np.array(np.array([10, 20, 30, 40, 50, 60, 70, 80, 90, 100, 120, 150, 200])/2).astype(int))\n",
    "axs[2].set_xlabel('% used features')\n",
    "axs[2].set_ylabel('Metric value')\n",
    "\n",
    "# Plot boxplots for NN correlation\n",
    "axs[3].boxplot(nn_corr_data)\n",
    "axs[3].set_title('Multimodel: MLP | Metric: $R^2$')\n",
    "axs[3].set_xticklabels(np.array(np.array([10, 20, 30, 40, 50, 60, 70, 80, 90, 100, 120, 150, 200])/2).astype(int))\n",
    "axs[3].set_xlabel('% used features')\n",
    "axs[3].set_ylabel('Metric value')\n",
    "\n",
    "fig.tight_layout()\n",
    "plt.show()\n",
    "\n"
   ]
  },
  {
   "cell_type": "code",
   "execution_count": null,
   "id": "ef30398a",
   "metadata": {},
   "outputs": [],
   "source": []
  },
  {
   "cell_type": "code",
   "execution_count": null,
   "id": "a9d03efb",
   "metadata": {},
   "outputs": [],
   "source": [
    "\n"
   ]
  },
  {
   "cell_type": "code",
   "execution_count": null,
   "id": "25dc9af2",
   "metadata": {},
   "outputs": [],
   "source": []
  },
  {
   "cell_type": "code",
   "execution_count": null,
   "id": "f5a46b67",
   "metadata": {},
   "outputs": [],
   "source": []
  },
  {
   "cell_type": "code",
   "execution_count": null,
   "id": "a2a6dadc",
   "metadata": {},
   "outputs": [],
   "source": []
  },
  {
   "cell_type": "code",
   "execution_count": null,
   "id": "8add1b24",
   "metadata": {},
   "outputs": [],
   "source": []
  },
  {
   "cell_type": "code",
   "execution_count": null,
   "id": "331f3535",
   "metadata": {},
   "outputs": [],
   "source": []
  },
  {
   "cell_type": "code",
   "execution_count": null,
   "id": "02771f07",
   "metadata": {},
   "outputs": [],
   "source": []
  },
  {
   "cell_type": "code",
   "execution_count": 158,
   "id": "9a0b03a6",
   "metadata": {},
   "outputs": [
    {
     "name": "stderr",
     "output_type": "stream",
     "text": [
      "/home/rosafiullin/anaconda3/lib/python3.9/site-packages/cvxpy/expressions/expression.py:612: UserWarning: \n",
      "This use of ``*`` has resulted in matrix multiplication.\n",
      "Using ``*`` for matrix multiplication has been deprecated since CVXPY 1.1.\n",
      "    Use ``*`` for matrix-scalar and vector-scalar multiplication.\n",
      "    Use ``@`` for matrix-matrix and matrix-vector multiplication.\n",
      "    Use ``multiply`` for elementwise multiplication.\n",
      "This code path has been hit 153 times so far.\n",
      "\n",
      "  warnings.warn(msg, UserWarning)\n",
      "/home/rosafiullin/anaconda3/lib/python3.9/site-packages/cvxpy/expressions/expression.py:612: UserWarning: \n",
      "This use of ``*`` has resulted in matrix multiplication.\n",
      "Using ``*`` for matrix multiplication has been deprecated since CVXPY 1.1.\n",
      "    Use ``*`` for matrix-scalar and vector-scalar multiplication.\n",
      "    Use ``@`` for matrix-matrix and matrix-vector multiplication.\n",
      "    Use ``multiply`` for elementwise multiplication.\n",
      "This code path has been hit 154 times so far.\n",
      "\n",
      "  warnings.warn(msg, UserWarning)\n"
     ]
    },
    {
     "data": {
      "text/plain": [
       "tensor([ 16,   1, 149, 131, 117,   2, 198,   5, 122,   7,  97,  89,  80,  42,\n",
       "         40,  66,  24,  43,  17,  75,  12,  79, 120,  72,  33, 129, 123,  60,\n",
       "         67,  51,  11,  15, 103,  14,  69,  25,  87,  36,  85,  68,  30,  35,\n",
       "         95,  83,  70, 121, 127,  37,  74,  73,  23,  81,  21,  98,  65,  18,\n",
       "        126, 108,  86,  52,  64,   9,  99, 124,  45,  34,  88,  90, 112, 119,\n",
       "         92, 101,   8,  19,  49,  13,  58,  96,  91,   6,  62,  31, 100,  94,\n",
       "         46,   4, 110, 192, 136,  76, 190,  41,  82,  93, 151, 135,  22, 102,\n",
       "        155, 138, 133, 139, 153, 150, 193, 137, 148,  50,  48, 159, 130, 134,\n",
       "        166, 172, 106, 128, 189, 156,  10, 140, 171, 195, 196, 114,  61, 141,\n",
       "        152, 178, 158, 147, 142, 160, 181, 162, 184, 199, 191, 143, 170, 185,\n",
       "        157, 144, 177,  63, 187,  59, 173, 161, 154, 167])"
      ]
     },
     "execution_count": 158,
     "metadata": {},
     "output_type": "execute_result"
    }
   ],
   "source": [
    "import torch \n",
    "import numpy as np\n",
    "import sklearn.feature_selection as sklfs\n",
    "import scipy as sc\n",
    "import cvxpy as cvx\n",
    "from sklearn.preprocessing import MinMaxScaler, StandardScaler\n",
    "\n",
    "\n",
    "\n",
    "def get_corr_matrix(X, Y=None, fill=0):\n",
    "    if Y is None:\n",
    "        Y = X\n",
    "    if len(Y.shape) == 1:\n",
    "        Y = torch.unsqueeze(Y, dim  = 1)\n",
    "    if len(X.shape) == 1:\n",
    "        X = torch.unsqueeze(X, dim = 1)\n",
    "    \n",
    "    X_ = (X - X.mean(dim=0))\n",
    "    Y_ = (Y - Y.mean(dim=0))\n",
    "    \n",
    "    idxs_nz_x = torch.where(torch.sum(X_ ** 2, dim = 0) != 0)[0]\n",
    "    idxs_nz_y = torch.where(torch.sum(Y_ ** 2, dim = 0) != 0)[0]\n",
    "    X_ = X_[:, idxs_nz_x]\n",
    "    Y_ = Y_[:, idxs_nz_y]\n",
    "    corr = torch.ones((X.shape[1], Y.shape[1])) * fill\n",
    "    for i, x in enumerate(X_.T):\n",
    "        corr[idxs_nz_x[i], idxs_nz_y] = (Y_.T@ x) / torch.sqrt((x ** 2).sum() * (Y_ ** 2).sum(dim=0, keepdim=True))\n",
    "    return corr\n",
    "\n",
    "\n",
    "def shift_spectrum(Q, eps=0.):\n",
    "    lamb_min = sc.linalg.eigh(Q)[0][0]\n",
    "    if lamb_min < 0:\n",
    "        Q = Q - (lamb_min - eps) * torch.eye(*Q.shape)\n",
    "    return Q, lamb_min\n",
    "\n",
    "\n",
    "class QPFS:\n",
    "    def __init__(self, sim='corr', k  = 10):\n",
    "        if sim not in ['corr', 'info']:\n",
    "            raise ValueError('Similarity measure should be \"corr\" or \"info\"')\n",
    "        self.sim = sim\n",
    "        self.n_features = k\n",
    "    \n",
    "    def get_params(self, X, y):\n",
    "        if self.sim == 'corr':\n",
    "            self.Q = torch.abs(get_corr_matrix(X, fill=1))\n",
    "            self.b = torch.unsqueeze(torch.sum(torch.abs(get_corr_matrix(X, y)), dim=1),1)\n",
    "#             print (self.b)\n",
    "        elif self.sim == 'info':\n",
    "            self.Q = torch.ones([X.shape[1], X.shape[1]])\n",
    "            self.b = torch.zeros((X.shape[1], 1))\n",
    "            for j in range(self.n_features):\n",
    "                self.Q[:, j] = torch.tensor(sklfs.mutual_info_regression((X), (X[:, j])))\n",
    "            if len(y.shape) == 1:\n",
    "                self.b = torch.unsqueeze(torch.tensor(sklfs.mutual_info_regression(X, y)), dim = 1)\n",
    "            else:\n",
    "                for y_ in y:\n",
    "                    self.b += torch.tensor(sklfs.mutual_info_regression(X, y_))\n",
    "        self.n = self.Q.shape[0]\n",
    "    \n",
    "    def get_alpha(self):\n",
    "        return self.Q.mean() / (self.Q.mean() + self.b.mean())\n",
    "\n",
    "    def fit(self, X, y):\n",
    "        self.get_params(X, y)\n",
    "        alpha = self.get_alpha()\n",
    "        self.solve_problem(alpha)\n",
    "    \n",
    "    def solve_problem(self, alpha):\n",
    "        \n",
    "        c = torch.ones((self.n, 1))\n",
    "        \n",
    "        Q, _ = shift_spectrum(self.Q)\n",
    "        \n",
    "        x = cvx.Variable(self.n)\n",
    "        objective = cvx.Minimize((1 - alpha) * cvx.quad_form(x, Q) - \n",
    "                                 alpha * self.b.T * x)\n",
    "        constraints = [x >= 0, c.T * x == 1]\n",
    "        prob = cvx.Problem(objective, constraints)\n",
    "\n",
    "        prob.solve()\n",
    "\n",
    "        self.status = prob.status\n",
    "        self.score = torch.tensor(x.value).flatten()\n",
    "        \n",
    "    def get_topk_indices(self):\n",
    "        return torch.argsort(self.score).flip(dims = [0])[:self.n_features]\n",
    "    \n",
    "    \n",
    "model = QPFS(k=150)\n",
    "model.fit(torch.tensor(X_tensor[:const2,2, :][::2]).float(),\n",
    "          torch.tensor(X_tensor[:const2,2, :][1::2]).float())\n",
    "model.get_topk_indices()"
   ]
  },
  {
   "cell_type": "code",
   "execution_count": 108,
   "id": "85ed8456",
   "metadata": {},
   "outputs": [
    {
     "name": "stderr",
     "output_type": "stream",
     "text": [
      "/home/rosafiullin/anaconda3/lib/python3.9/site-packages/cvxpy/expressions/expression.py:612: UserWarning: \n",
      "This use of ``*`` has resulted in matrix multiplication.\n",
      "Using ``*`` for matrix multiplication has been deprecated since CVXPY 1.1.\n",
      "    Use ``*`` for matrix-scalar and vector-scalar multiplication.\n",
      "    Use ``@`` for matrix-matrix and matrix-vector multiplication.\n",
      "    Use ``multiply`` for elementwise multiplication.\n",
      "This code path has been hit 1 times so far.\n",
      "\n",
      "  warnings.warn(msg, UserWarning)\n",
      "/home/rosafiullin/anaconda3/lib/python3.9/site-packages/cvxpy/expressions/expression.py:612: UserWarning: \n",
      "This use of ``*`` has resulted in matrix multiplication.\n",
      "Using ``*`` for matrix multiplication has been deprecated since CVXPY 1.1.\n",
      "    Use ``*`` for matrix-scalar and vector-scalar multiplication.\n",
      "    Use ``@`` for matrix-matrix and matrix-vector multiplication.\n",
      "    Use ``multiply`` for elementwise multiplication.\n",
      "This code path has been hit 2 times so far.\n",
      "\n",
      "  warnings.warn(msg, UserWarning)\n"
     ]
    },
    {
     "data": {
      "text/plain": [
       "tensor([ 57,  17,   0,  97,  41,  19, 149, 138, 157,  59, 118,  72, 156, 141,\n",
       "         73, 133,  40, 150, 134, 171, 139,  58, 140, 119, 155,  55,  16,   6,\n",
       "        187,  39, 148, 117, 170,  60, 137,  25,  20, 135,  56,  74,  98, 125,\n",
       "        172,  75,  42,  43, 152,  18, 136, 158,  15,   1,  96,  10,  95,  52,\n",
       "        147,  79, 151,  63, 109, 186, 120,  48,  26,  99,   7, 126, 177,   2,\n",
       "         47,  34, 130,  76,  78, 142,  87,  38, 110,  77,  33,  44,  35,  51,\n",
       "         11,  62,  36, 127, 132,  83,  88, 116, 111,  32,  54,  80,  68,  37,\n",
       "        178,   4, 191, 185,  27, 192, 146, 129, 199,  45, 161, 176, 100,  14,\n",
       "          9,  23, 101,  31,  46,   3, 115,  67, 102, 162,  85,  70,  94, 197,\n",
       "        179,  28,  49, 193,  66,  71, 175, 182, 169, 166,   5,  29,  22, 160,\n",
       "        167, 103, 124,  53,  61, 198, 108,  30,  84, 173])"
      ]
     },
     "execution_count": 108,
     "metadata": {},
     "output_type": "execute_result"
    }
   ],
   "source": [
    "# const2 = train_index\n",
    "\n",
    "# model = QPFS(k=150)\n",
    "# model.fit(torch.tensor(X_arr[:const2, :][::2]).float(),\n",
    "#           torch.tensor(X_arr[:const2, :][1::2]).float())\n",
    "# model.get_topk_indices()"
   ]
  },
  {
   "cell_type": "code",
   "execution_count": null,
   "id": "3610e505",
   "metadata": {},
   "outputs": [],
   "source": []
  },
  {
   "cell_type": "code",
   "execution_count": null,
   "id": "dddd7df0",
   "metadata": {},
   "outputs": [],
   "source": []
  }
 ],
 "metadata": {
  "kernelspec": {
   "display_name": "Python 3 (ipykernel)",
   "language": "python",
   "name": "python3"
  },
  "language_info": {
   "codemirror_mode": {
    "name": "ipython",
    "version": 3
   },
   "file_extension": ".py",
   "mimetype": "text/x-python",
   "name": "python",
   "nbconvert_exporter": "python",
   "pygments_lexer": "ipython3",
   "version": "3.9.13"
  }
 },
 "nbformat": 4,
 "nbformat_minor": 5
}
